{
 "cells": [
  {
   "cell_type": "code",
   "execution_count": 1,
   "metadata": {},
   "outputs": [
    {
     "name": "stderr",
     "output_type": "stream",
     "text": [
      "2023-06-12 10:40:45.560283: I tensorflow/core/platform/cpu_feature_guard.cc:193] This TensorFlow binary is optimized with oneAPI Deep Neural Network Library (oneDNN) to use the following CPU instructions in performance-critical operations:  AVX2 AVX512F AVX512_VNNI FMA\n",
      "To enable them in other operations, rebuild TensorFlow with the appropriate compiler flags.\n",
      "2023-06-12 10:40:45.681752: I tensorflow/core/util/port.cc:104] oneDNN custom operations are on. You may see slightly different numerical results due to floating-point round-off errors from different computation orders. To turn them off, set the environment variable `TF_ENABLE_ONEDNN_OPTS=0`.\n",
      "2023-06-12 10:40:46.358126: W tensorflow/compiler/xla/stream_executor/platform/default/dso_loader.cc:64] Could not load dynamic library 'libnvinfer.so.7'; dlerror: libnvrtc.so.11.0: cannot open shared object file: No such file or directory\n",
      "2023-06-12 10:40:46.358201: W tensorflow/compiler/xla/stream_executor/platform/default/dso_loader.cc:64] Could not load dynamic library 'libnvinfer_plugin.so.7'; dlerror: libnvinfer_plugin.so.7: cannot open shared object file: No such file or directory\n",
      "2023-06-12 10:40:46.358207: W tensorflow/compiler/tf2tensorrt/utils/py_utils.cc:38] TF-TRT Warning: Cannot dlopen some TensorRT libraries. If you would like to use Nvidia GPU with TensorRT, please make sure the missing libraries mentioned above are installed properly.\n"
     ]
    },
    {
     "name": "stdout",
     "output_type": "stream",
     "text": [
      "src.model - INFO - Initializing CNN\n",
      "src.model - INFO - Input shape = (128, 213, 1)\n",
      "src.model - INFO - CNN Initialized\n",
      "src.model - INFO - Loading saved model\n",
      "src.model - INFO - Model loaded from /home/tzag/danigil/dl/guitarCR/models\n"
     ]
    },
    {
     "name": "stderr",
     "output_type": "stream",
     "text": [
      "2023-06-12 10:40:48.070610: I tensorflow/core/common_runtime/gpu/gpu_device.cc:1613] Created device /job:localhost/replica:0/task:0/device:GPU:0 with 22328 MB memory:  -> device: 0, name: NVIDIA RTX A5000, pci bus id: 0000:3b:00.0, compute capability: 8.6\n"
     ]
    }
   ],
   "source": [
    "import pandas as pd\n",
    "import os, sys\n",
    "\n",
    "import tensorflow as tf\n",
    "\n",
    "module_path = os.path.abspath(os.path.join('./..'))\n",
    "if module_path not in sys.path:\n",
    "    sys.path.append(module_path)\n",
    "\n",
    "from settings import *\n",
    "from notebooks.my_train import *\n",
    "from src.model import CNN, CNN_nodropout\n",
    "import librosa\n",
    "\n",
    "most_shape = (128, 213)\n",
    "baseline = CNN(most_shape)\n",
    "baseline.load_model('experiment3_model_5epochs_better')"
   ]
  },
  {
   "cell_type": "code",
   "execution_count": 2,
   "metadata": {},
   "outputs": [
    {
     "name": "stdout",
     "output_type": "stream",
     "text": [
      "src.processing - INFO - Start train test split with split ratio: 0.65\n",
      "src.processing - INFO - Number of training samples is 1300\n",
      "src.processing - INFO - Number of testing samples is 700\n",
      "src.processing - INFO - Train test split completed\n"
     ]
    }
   ],
   "source": [
    "from src.data.preprocessing import uniform_shape\n",
    "from src.processing import *\n",
    "\n",
    "train_datas = []\n",
    "test_datas = []\n",
    "\n",
    "instruments = ['Guitar', 'Accordion', 'Violin', 'Piano']\n",
    "datasets_raw = [pd.read_pickle(os.path.join(METADATA_DIR_PROCESSED_NORMALIZED, f'data_{instrument.lower()}.pkl')) for instrument in instruments]\n",
    "\n",
    "for i in range(len(datasets_raw)):\n",
    "    datasets_raw[i] = uniform_shape(datasets_raw[i], most_shape[1])\n",
    "\n",
    "train_data_guitar, test_data_guitar = train_test_split(datasets_raw[0], augmented=False, split_ratio=0.65)\n",
    "\n",
    "test_datas.append(test_data_guitar)"
   ]
  },
  {
   "cell_type": "code",
   "execution_count": 3,
   "metadata": {},
   "outputs": [
    {
     "name": "stdout",
     "output_type": "stream",
     "text": [
      "src.processing - INFO - Start train test split with split ratio: 0.65\n",
      "src.processing - INFO - Number of training samples is 1300\n",
      "src.processing - INFO - Number of testing samples is 700\n",
      "src.processing - INFO - Train test split completed\n",
      "src.processing - INFO - Start train test split with split ratio: 0\n",
      "src.processing - INFO - Number of training samples is 0\n",
      "src.processing - INFO - Number of testing samples is 100\n",
      "src.processing - INFO - Train test split completed\n",
      "src.processing - INFO - Start train test split with split ratio: 0\n",
      "src.processing - INFO - Number of training samples is 0\n",
      "src.processing - INFO - Number of testing samples is 100\n",
      "src.processing - INFO - Train test split completed\n",
      "src.processing - INFO - Start train test split with split ratio: 0\n",
      "src.processing - INFO - Number of training samples is 0\n",
      "src.processing - INFO - Number of testing samples is 100\n",
      "src.processing - INFO - Train test split completed\n"
     ]
    }
   ],
   "source": [
    "train_data_guitar, test_data_guitar = train_test_split(datasets_raw[0], augmented=False, split_ratio=0.65)\n",
    "test_datas = []\n",
    "test_datas.append(test_data_guitar)\n",
    "\n",
    "for i, dataset in enumerate(datasets_raw):\n",
    "    if i == 0:\n",
    "        continue\n",
    "\n",
    "    _, test_data = train_test_split(dataset, augmented=False, split_ratio=0)\n",
    "    test_datas.append(test_data)"
   ]
  },
  {
   "cell_type": "code",
   "execution_count": 5,
   "metadata": {},
   "outputs": [
    {
     "name": "stdout",
     "output_type": "stream",
     "text": [
      "22/22 [==============================] - 0s 8ms/step - loss: 0.2836 - accuracy: 0.9114 - precision: 0.9210 - recall: 0.8973 - fmeasure: 0.9086\n",
      "Test score for instrument: Guitar\n",
      "\tTest loss: 0.28361475467681885\n",
      "\tTest accuracy: 0.9114285707473755\n",
      "\tTest precision: 0.9209892153739929\n",
      "\tTest recall: 0.8973214626312256\n",
      "\tTest f1-score: 0.908647358417511\n",
      "4/4 [==============================] - 0s 7ms/step - loss: 0.0057 - accuracy: 1.0000 - precision: 1.0000 - recall: 1.0000 - fmeasure: 1.0000\n",
      "Test score for instrument: Accordion\n",
      "\tTest loss: 0.005708777345716953\n",
      "\tTest accuracy: 1.0\n",
      "\tTest precision: 1.0\n",
      "\tTest recall: 1.0\n",
      "\tTest f1-score: 1.0\n",
      "4/4 [==============================] - 0s 7ms/step - loss: 0.0032 - accuracy: 1.0000 - precision: 1.0000 - recall: 1.0000 - fmeasure: 1.0000\n",
      "Test score for instrument: Violin\n",
      "\tTest loss: 0.003157589817419648\n",
      "\tTest accuracy: 1.0\n",
      "\tTest precision: 1.0\n",
      "\tTest recall: 1.0\n",
      "\tTest f1-score: 1.0\n",
      "4/4 [==============================] - 0s 6ms/step - loss: 0.2004 - accuracy: 0.9700 - precision: 0.9825 - recall: 0.9219 - fmeasure: 0.9505\n",
      "Test score for instrument: Piano\n",
      "\tTest loss: 0.20037664473056793\n",
      "\tTest accuracy: 0.9700000286102295\n",
      "\tTest precision: 0.9824507236480713\n",
      "\tTest recall: 0.921875\n",
      "\tTest f1-score: 0.9505398869514465\n"
     ]
    }
   ],
   "source": [
    "test_instruments = instruments\n",
    "for test_data, instrument in zip(test_datas, test_instruments):\n",
    "    X_test = test_data['spectrogram']\n",
    "    X_test = np.array([x.reshape( (128, most_shape[1], 1) ) for x in X_test])\n",
    "    y_test = test_data['class_ID']\n",
    "\n",
    "    y_test_values=y_test\n",
    "    y_test = np.array(keras.utils.to_categorical(y_test, 10))\n",
    "\n",
    "    score = baseline.model.evaluate(X_test,y_test)\n",
    "    print(f'Test score for instrument: {instrument}')\n",
    "    print('\\tTest loss:', score[0])\n",
    "    print('\\tTest accuracy:', score[1])\n",
    "    print('\\tTest precision:', score[2])\n",
    "    print('\\tTest recall:', score[3])\n",
    "    print('\\tTest f1-score:', score[4])"
   ]
  },
  {
   "cell_type": "code",
   "execution_count": 8,
   "metadata": {},
   "outputs": [
    {
     "name": "stdout",
     "output_type": "stream",
     "text": [
      "4/4 [==============================] - 0s 17ms/step - loss: 62.1479 - accuracy: 0.3600 - precision: 0.4453 - recall: 0.4453 - fmeasure: 0.4453\n",
      "Piano Test accuracy: 0.36000001430511475\n",
      "2/2 [==============================] - 0s 11ms/step - loss: 17.3487 - accuracy: 0.4667 - precision: 0.4710 - recall: 0.4710 - fmeasure: 0.4710\n",
      "Guitar Test accuracy: 0.46666666865348816\n"
     ]
    }
   ],
   "source": [
    "dataset_piano = pd.read_pickle(os.path.join(METADATA_DIR_RAW_OOD, 'data_piano.pkl'))\n",
    "dataset_guitar = pd.read_pickle(os.path.join(METADATA_DIR_RAW_OOD, 'data_guitar.pkl'))\n",
    "size=213\n",
    "dataset_piano['spectrogram'] = dataset_piano['spectrogram'].apply(lambda x: np.pad(x, ((0, 0), (0, size-x.shape[1])), 'constant'))\n",
    "dataset_guitar['spectrogram'] = dataset_guitar['spectrogram'].apply(lambda x: np.pad(x, ((0, 0), (0, size-x.shape[1])), 'constant'))\n",
    "\n",
    "test_data = dataset_piano\n",
    "\n",
    "X_test = test_data['spectrogram']\n",
    "X_test = np.array([np.pad(x, ((0, 0), (0, size-x.shape[1])), 'constant') for x in dataset_piano['spectrogram']])\n",
    "y_test = test_data['class_ID']\n",
    "\n",
    "X_test = np.array([x.reshape( (128, size, 1) ) for x in X_test])\n",
    "\n",
    "y_test_values=y_test\n",
    "y_test = np.array(keras.utils.to_categorical(y_test, 10))\n",
    "\n",
    "score = baseline.model.evaluate(\n",
    "\tx=X_test,\n",
    "\ty=y_test)\n",
    "\n",
    "print('Piano Test accuracy:', score[1])\n",
    "\n",
    "test_data = dataset_guitar\n",
    "\n",
    "X_test = test_data['spectrogram']\n",
    "X_test = np.array([np.pad(x, ((0, 0), (0, size-x.shape[1])), 'constant') for x in dataset_guitar['spectrogram']])\n",
    "y_test = test_data['class_ID']\n",
    "\n",
    "X_test = np.array([x.reshape( (128, size, 1) ) for x in X_test])\n",
    "\n",
    "y_test_values=y_test\n",
    "y_test = np.array(keras.utils.to_categorical(y_test, 10))\n",
    "\n",
    "score = baseline.model.evaluate(\n",
    "\tx=X_test,\n",
    "\ty=y_test)\n",
    "\n",
    "print('Guitar Test accuracy:', score[1])"
   ]
  },
  {
   "cell_type": "code",
   "execution_count": 11,
   "metadata": {},
   "outputs": [
    {
     "name": "stdout",
     "output_type": "stream",
     "text": [
      "~~~~~~~~~~~~~~~~~~~xylophone~~~~~~~~~~~~~~~~~~~\n",
      "#EXP | ACCURACY | RECALL | PRECISION | F1-SCORE\n",
      "BASELINE | 0.000000 | 0.0000 | 0.0000000 | 0.000000\n",
      "~~~~~~~~~~~~~~~~~~~clarinet~~~~~~~~~~~~~~~~~~~\n",
      "#EXP | ACCURACY | RECALL | PRECISION | F1-SCORE\n",
      "BASELINE | 0.100000 | 0.1000 | 0.0333333 | 0.050000\n",
      "~~~~~~~~~~~~~~~~~~~~trumpet~~~~~~~~~~~~~~~~~~~~\n",
      "#EXP | ACCURACY | RECALL | PRECISION | F1-SCORE\n",
      "BASELINE | 0.200000 | 0.2000 | 0.0750000 | 0.106667\n",
      "~~~~~~~~~~~~~~~~~~~~~oboe~~~~~~~~~~~~~~~~~~~~~\n",
      "#EXP | ACCURACY | RECALL | PRECISION | F1-SCORE\n",
      "BASELINE | 0.300000 | 0.3000 | 0.1666667 | 0.195238\n",
      "~~~~~~~~~~~~~~~~~~~~~harp~~~~~~~~~~~~~~~~~~~~~\n",
      "#EXP | ACCURACY | RECALL | PRECISION | F1-SCORE\n",
      "BASELINE | 0.100000 | 0.1000 | 0.0200000 | 0.033333\n",
      "~~~~~~~~~~~~~~~~~tubular_bells~~~~~~~~~~~~~~~~~\n",
      "#EXP | ACCURACY | RECALL | PRECISION | F1-SCORE\n",
      "BASELINE | 0.000000 | 0.0000 | 0.0000000 | 0.000000\n",
      "~~~~~~~~~~~~~~~~~~~~~horn~~~~~~~~~~~~~~~~~~~~~\n",
      "#EXP | ACCURACY | RECALL | PRECISION | F1-SCORE\n",
      "BASELINE | 0.200000 | 0.2000 | 0.0583333 | 0.090000\n",
      "~~~~~~~~~~~~~~~~~~~~~flute~~~~~~~~~~~~~~~~~~~~~\n",
      "#EXP | ACCURACY | RECALL | PRECISION | F1-SCORE\n",
      "BASELINE | 0.000000 | 0.0000 | 0.0000000 | 0.000000\n"
     ]
    }
   ],
   "source": [
    "y_pred = {}\n",
    "y_true = {}\n",
    "\n",
    "from sklearn.metrics import classification_report, accuracy_score, recall_score, precision_score, f1_score\n",
    "import warnings\n",
    "warnings.filterwarnings(\"ignore\")\n",
    "\n",
    "ood2_path = './../data/audio/myood2/splits'\n",
    "df = pd.DataFrame()\n",
    "\n",
    "for instrument in os.listdir(ood2_path):\n",
    "    y_pred[instrument] = []\n",
    "    # y_pred_3[instrument] = []\n",
    "    y_true[instrument] = []\n",
    "\n",
    "    for chord in os.listdir(os.path.join(ood2_path, instrument)):\n",
    "\n",
    "        #true = file.split('-')[-1][:1]\n",
    "        true = chord.replace('.wav','')\n",
    "        assert true in CLASSES\n",
    "        y_true[instrument].append(true)\n",
    "\n",
    "        curr_path = os.path.join(ood2_path, instrument, chord)\n",
    "        y, sr = librosa.load(curr_path, sr=44100, duration=2)\n",
    "\n",
    "        spectrogram = librosa.feature.melspectrogram(y=y,sr=sr, n_mels=128)\n",
    "        #spectrogram = librosa.util.normalize(np.log(librosa.feature.melspectrogram(y=y,sr=sr, n_mels=128) + 1e-9))\n",
    "        spectrogram = np.pad(spectrogram, ((0, 0), (0, most_shape[1]-spectrogram.shape[1])), 'constant')\n",
    "        spectrogram = spectrogram.reshape((1,)+most_shape+(1,))\n",
    "\n",
    "        predict_x=baseline.model.predict(spectrogram, batch_size=1, verbose=0)\n",
    "        predictions = np.argmax(predict_x,axis=1)\n",
    "        pred = CLASSES[predictions[0]]\n",
    "        y_pred[instrument].append(pred)\n",
    "        \n",
    "        # predict_x_3=experiment3.model.predict(spectrogram, batch_size=1, verbose=0)\n",
    "        # predictions_3 = np.argmax(predict_x_3,axis=1)\n",
    "        # pred_3 = CLASSES[predictions_3[0]]\n",
    "        # y_pred_3[instrument].append(pred_3)\n",
    "\n",
    "    slen = int((len('#EXP | ACCURACY | RECALL | PRECISION | F1-SCORE') - len(instrument))/2)\n",
    "    print(f\"{'~'*slen}{instrument}{'~'*slen}\")\n",
    "    print(f'#EXP | ACCURACY | RECALL | PRECISION | F1-SCORE')\n",
    "    print(f\"\"\"BASELINE | {'{:.6f}'.format(accuracy_score(y_true[instrument], y_pred[instrument]))} | {'{:.4f}'.format(recall_score(y_true[instrument], y_pred[instrument], average='macro'))} | {'{:.7f}'.format(precision_score(y_true[instrument], y_pred[instrument], average='macro'))} | {'{:.6f}'.format(f1_score(y_true[instrument], y_pred[instrument], average='macro'))}\"\"\")\n",
    "    # print(f\"\"\"EXP3 | {'{:.6f}'.format(accuracy_score(y_true[instrument], y_pred_3[instrument]))} | {'{:.4f}'.format(recall_score(y_true[instrument], y_pred_3[instrument], average='macro'))} | {'{:.7f}'.format(precision_score(y_true[instrument], y_pred_3[instrument], average='macro'))} | {'{:.6f}'.format(f1_score(y_true[instrument], y_pred_3[instrument], average='macro'))}\"\"\")\n"
   ]
  }
 ],
 "metadata": {
  "kernelspec": {
   "display_name": "danigil-steganalysis",
   "language": "python",
   "name": "python3"
  },
  "language_info": {
   "codemirror_mode": {
    "name": "ipython",
    "version": 3
   },
   "file_extension": ".py",
   "mimetype": "text/x-python",
   "name": "python",
   "nbconvert_exporter": "python",
   "pygments_lexer": "ipython3",
   "version": "3.8.8"
  },
  "orig_nbformat": 4
 },
 "nbformat": 4,
 "nbformat_minor": 2
}
