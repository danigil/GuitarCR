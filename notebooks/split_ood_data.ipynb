{
 "cells": [
  {
   "cell_type": "code",
   "execution_count": 5,
   "metadata": {},
   "outputs": [],
   "source": [
    "import sys, os\n",
    "module_path = os.path.abspath(os.path.join('../'))\n",
    "if module_path not in sys.path:\n",
    "    sys.path.append(module_path)\n",
    "\n",
    "from settings import *\n",
    "\n",
    "from pydub import AudioSegment\n",
    "import numpy as np\n",
    "import math\n",
    "\n",
    "lab_classes = ('A:maj', 'A:min', 'B:min', 'C:maj', 'D:maj', 'D:min', 'E:maj', 'E:min', 'F:maj', 'G:maj')\n",
    "lab2sys = {\n",
    "    'A:maj': 'a',\n",
    "    'A:min': 'am',\n",
    "    'B:min': 'bm',\n",
    "    'C:maj': 'c',\n",
    "    'D:maj': 'd',\n",
    "    'D:min': 'dm',\n",
    "    'E:maj': 'e',\n",
    "    'E:min': 'em',\n",
    "    'F:maj': 'f',\n",
    "    'G:maj': 'g'\n",
    "}\n",
    "\n",
    "class SplitWavAudioMubin():\n",
    "    def __init__(self, folder, filename):\n",
    "        self.folder = folder\n",
    "        self.filename = filename\n",
    "        self.filepath = folder + '/' + filename\n",
    "        \n",
    "        self.audio = AudioSegment.from_wav(self.filepath)\n",
    "    \n",
    "    def get_duration(self):\n",
    "        return self.audio.duration_seconds\n",
    "    \n",
    "    def single_split(self, from_min, to_min, split_folder,split_filename):\n",
    "        t1 = from_min * 1000\n",
    "        t2 = to_min * 1000\n",
    "        split_audio = self.audio[t1:t2]\n",
    "        path = os.path.join(self.folder, 'guitar_splits', split_folder)\n",
    "        os.makedirs(path, exist_ok=True)\n",
    "        split_audio.export(os.path.join(path, f'{split_filename}.wav'), format=\"wav\")\n",
    "        \n",
    "    def multiple_split(self, min_per_split):\n",
    "        total_mins = math.ceil(self.get_duration())\n",
    "        for i, cut in enumerate(np.arange(0, total_mins, min_per_split)):\n",
    "            bools = [labels[i] in str for str in lab_classes]\n",
    "            if any(bools):\n",
    "                split_fn = self.filename.split('.')[0] + '_' + labels[i]\n",
    "                self.single_split(cut, cut+min_per_split, lab2sys[lab_classes[bools.index(True)]],split_fn)\n",
    "                # print(str(i) + ' Done')\n",
    "                # if i == total_mins - min_per_split:\n",
    "                #     print('All splited successfully')\n",
    "\n",
    "\n",
    "folder = os.path.join(DATA_DIR_DATASET_OOD1, 'guitar')\n",
    "import pandas as pd\n",
    "lab = pd.read_csv(os.path.join(folder, 'guitar_annotation.lab'), delim_whitespace=True, header=None)\n",
    "labels = lab[2].to_numpy()\n",
    "\n",
    "from glob import glob\n",
    "for filename in glob(os.path.join(folder,\"*.wav\")):\n",
    "    file = filename.split('/')[-1]\n",
    "\n",
    "    split_wav = SplitWavAudioMubin(folder, file)\n",
    "    split_wav.multiple_split(min_per_split=2)\n"
   ]
  },
  {
   "cell_type": "code",
   "execution_count": 1,
   "metadata": {},
   "outputs": [
    {
     "data": {
      "text/plain": [
       "'/home/tzag/danigil/dl/guitarCR/data/audio/IDMT-SMT-CHORDS/non_guitar/piano'"
      ]
     },
     "execution_count": 1,
     "metadata": {},
     "output_type": "execute_result"
    }
   ],
   "source": [
    "import sys, os\n",
    "module_path = os.path.abspath(os.path.join('../'))\n",
    "if module_path not in sys.path:\n",
    "    sys.path.append(module_path)\n",
    "\n",
    "from settings import *\n",
    "os.path.join(DATA_DIR_DATASET_OOD1_NOTGUITAR, 'piano')"
   ]
  },
  {
   "cell_type": "code",
   "execution_count": 8,
   "metadata": {},
   "outputs": [
    {
     "name": "stdout",
     "output_type": "stream",
     "text": [
      "['ableton_live_piano_Sweetness_Pad_E:min.wav', 'ableton_live_piano_Piano_to_Pad_electric_piano_E:min.wav', 'garageband_piano_Deluxe_Modern_E:min.wav', 'ableton_live_piano_Grand_Piano_E:min.wav', 'ableton_live_piano_Celestial_Pad_E:min.wav', 'ableton_live_piano_Sadness_Pad_E:min.wav', 'garageband_piano_Boesendorfer Grand Piano_E:min.wav', 'garageband_piano_Steinway_Grand_Piano_E:min.wav', 'garageband_piano_Jazz_Organ_E:min.wav', 'ableton_live_piano_Grand_Piano_Reverb_E:min.wav', 'ableton_live_piano_Celestial_Pad_B:min.wav', 'ableton_live_piano_Sadness_Pad_B:min.wav', 'garageband_piano_Boesendorfer Grand Piano_B:min.wav', 'garageband_piano_Steinway_Grand_Piano_B:min.wav', 'garageband_piano_Deluxe_Modern_B:min.wav', 'ableton_live_piano_Sweetness_Pad_B:min.wav', 'garageband_piano_Jazz_Organ_B:min.wav', 'ableton_live_piano_Grand_Piano_Reverb_B:min.wav', 'ableton_live_piano_Piano_to_Pad_electric_piano_B:min.wav', 'ableton_live_piano_Grand_Piano_B:min.wav', 'garageband_piano_Jazz_Organ_F:maj.wav', 'garageband_piano_Deluxe_Modern_F:maj.wav', 'ableton_live_piano_Celestial_Pad_F:maj.wav', 'ableton_live_piano_Sadness_Pad_F:maj.wav', 'ableton_live_piano_Grand_Piano_Reverb_F:maj.wav', 'garageband_piano_Steinway_Grand_Piano_F:maj.wav', 'garageband_piano_Boesendorfer Grand Piano_F:maj.wav', 'ableton_live_piano_Piano_to_Pad_electric_piano_F:maj.wav', 'ableton_live_piano_Grand_Piano_F:maj.wav', 'ableton_live_piano_Sweetness_Pad_F:maj.wav', 'garageband_piano_Deluxe_Modern_D:maj.wav', 'garageband_piano_Steinway_Grand_Piano_D:maj.wav', 'ableton_live_piano_Grand_Piano_D:maj.wav', 'ableton_live_piano_Celestial_Pad_D:maj.wav', 'garageband_piano_Boesendorfer Grand Piano_D:maj.wav', 'garageband_piano_Jazz_Organ_D:maj.wav', 'ableton_live_piano_Sadness_Pad_D:maj.wav', 'ableton_live_piano_Sweetness_Pad_D:maj.wav', 'ableton_live_piano_Piano_to_Pad_electric_piano_D:maj.wav', 'ableton_live_piano_Grand_Piano_Reverb_D:maj.wav', 'ableton_live_piano_Celestial_Pad_A:maj.wav', 'ableton_live_piano_Grand_Piano_Reverb_A:maj.wav', 'ableton_live_piano_Piano_to_Pad_electric_piano_A:maj.wav', 'ableton_live_piano_Sweetness_Pad_A:maj.wav', 'garageband_piano_Jazz_Organ_A:maj.wav', 'garageband_piano_Deluxe_Modern_A:maj.wav', 'garageband_piano_Steinway_Grand_Piano_A:maj.wav', 'garageband_piano_Boesendorfer Grand Piano_A:maj.wav', 'ableton_live_piano_Sadness_Pad_A:maj.wav', 'ableton_live_piano_Grand_Piano_A:maj.wav', 'ableton_live_piano_Celestial_Pad_G:maj.wav', 'garageband_piano_Jazz_Organ_G:maj.wav', 'garageband_piano_Boesendorfer Grand Piano_G:maj.wav', 'ableton_live_piano_Piano_to_Pad_electric_piano_G:maj.wav', 'ableton_live_piano_Sweetness_Pad_G:maj.wav', 'ableton_live_piano_Grand_Piano_G:maj.wav', 'garageband_piano_Deluxe_Modern_G:maj.wav', 'ableton_live_piano_Grand_Piano_Reverb_G:maj.wav', 'ableton_live_piano_Sadness_Pad_G:maj.wav', 'garageband_piano_Steinway_Grand_Piano_G:maj.wav', 'garageband_piano_Deluxe_Modern_D:min.wav', 'ableton_live_piano_Grand_Piano_D:min.wav', 'garageband_piano_Steinway_Grand_Piano_D:min.wav', 'ableton_live_piano_Celestial_Pad_D:min.wav', 'garageband_piano_Jazz_Organ_D:min.wav', 'ableton_live_piano_Piano_to_Pad_electric_piano_D:min.wav', 'ableton_live_piano_Sadness_Pad_D:min.wav', 'ableton_live_piano_Sweetness_Pad_D:min.wav', 'ableton_live_piano_Grand_Piano_Reverb_D:min.wav', 'garageband_piano_Boesendorfer Grand Piano_D:min.wav', 'ableton_live_piano_Grand_Piano_Reverb_A:min.wav', 'ableton_live_piano_Sweetness_Pad_A:min.wav', 'garageband_piano_Deluxe_Modern_A:min.wav', 'ableton_live_piano_Piano_to_Pad_electric_piano_A:min.wav', 'ableton_live_piano_Celestial_Pad_A:min.wav', 'ableton_live_piano_Grand_Piano_A:min.wav', 'garageband_piano_Steinway_Grand_Piano_A:min.wav', 'garageband_piano_Jazz_Organ_A:min.wav', 'garageband_piano_Boesendorfer Grand Piano_A:min.wav', 'ableton_live_piano_Sadness_Pad_A:min.wav', 'garageband_piano_Boesendorfer Grand Piano_E:maj.wav', 'garageband_piano_Jazz_Organ_E:maj.wav', 'ableton_live_piano_Celestial_Pad_E:maj.wav', 'ableton_live_piano_Piano_to_Pad_electric_piano_E:maj.wav', 'garageband_piano_Deluxe_Modern_E:maj.wav', 'ableton_live_piano_Grand_Piano_E:maj.wav', 'ableton_live_piano_Sweetness_Pad_E:maj.wav', 'ableton_live_piano_Sadness_Pad_E:maj.wav', 'garageband_piano_Steinway_Grand_Piano_E:maj.wav', 'ableton_live_piano_Grand_Piano_Reverb_E:maj.wav', 'garageband_piano_Boesendorfer Grand Piano_C:maj.wav', 'garageband_piano_Deluxe_Modern_C:maj.wav', 'garageband_piano_Steinway_Grand_Piano_C:maj.wav', 'ableton_live_piano_Grand_Piano_C:maj.wav', 'ableton_live_piano_Piano_to_Pad_electric_piano_C:maj.wav', 'ableton_live_piano_Sadness_Pad_C:maj.wav', 'ableton_live_piano_Grand_Piano_Reverb_C:maj.wav', 'ableton_live_piano_Sweetness_Pad_C:maj.wav', 'ableton_live_piano_Celestial_Pad_C:maj.wav', 'garageband_piano_Jazz_Organ_C:maj.wav']\n"
     ]
    }
   ],
   "source": [
    "from glob import glob\n",
    "DATA_DIR_DATASET_OOD1_PIANO\n",
    "l = glob(DATA_DIR_DATASET_OOD1_PIANO + \"**/*.wav\")\n",
    "s = 'piano'\n",
    "l2 = list(map(lambda x: x[x.rindex(f'{s}/')+len(f'{s}/'):], l))\n",
    "l3 = list(map(lambda x: x[x.rindex('/')+1:], l2))\n",
    "#print()\n",
    "print(l3)"
   ]
  },
  {
   "cell_type": "code",
   "execution_count": 5,
   "metadata": {},
   "outputs": [
    {
     "data": {
      "text/plain": [
       "0       C:maj\n",
       "1     C:maj/3\n",
       "2     C:maj/5\n",
       "3      C#:maj\n",
       "4    C#:maj/3\n",
       "5    C#:maj/5\n",
       "6       D:maj\n",
       "7     D:maj/3\n",
       "8     D:maj/5\n",
       "9      D#:maj\n",
       "Name: 2, dtype: object"
      ]
     },
     "execution_count": 5,
     "metadata": {},
     "output_type": "execute_result"
    }
   ],
   "source": [
    "lab[2][:10]"
   ]
  },
  {
   "cell_type": "code",
   "execution_count": null,
   "metadata": {},
   "outputs": [],
   "source": []
  }
 ],
 "metadata": {
  "kernelspec": {
   "display_name": "danigil-steganalysis",
   "language": "python",
   "name": "python3"
  },
  "language_info": {
   "codemirror_mode": {
    "name": "ipython",
    "version": 3
   },
   "file_extension": ".py",
   "mimetype": "text/x-python",
   "name": "python",
   "nbconvert_exporter": "python",
   "pygments_lexer": "ipython3",
   "version": "3.8.8"
  },
  "orig_nbformat": 4
 },
 "nbformat": 4,
 "nbformat_minor": 2
}
