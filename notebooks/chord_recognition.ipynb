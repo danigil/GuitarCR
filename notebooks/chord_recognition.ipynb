{
 "cells": [
  {
   "cell_type": "code",
   "execution_count": 1,
   "metadata": {},
   "outputs": [],
   "source": [
    "import warnings\n",
    "warnings.filterwarnings('ignore')\n",
    "\n",
    "# import os\n",
    "# os.environ[\"CUDA_VISIBLE_DEVICES\"] = \"-1\""
   ]
  },
  {
   "cell_type": "code",
   "execution_count": 2,
   "metadata": {},
   "outputs": [
    {
     "name": "stderr",
     "output_type": "stream",
     "text": [
      "2023-05-11 12:48:58.817680: I tensorflow/core/platform/cpu_feature_guard.cc:193] This TensorFlow binary is optimized with oneAPI Deep Neural Network Library (oneDNN) to use the following CPU instructions in performance-critical operations:  AVX2 AVX512F AVX512_VNNI FMA\n",
      "To enable them in other operations, rebuild TensorFlow with the appropriate compiler flags.\n",
      "2023-05-11 12:48:58.942292: I tensorflow/core/util/port.cc:104] oneDNN custom operations are on. You may see slightly different numerical results due to floating-point round-off errors from different computation orders. To turn them off, set the environment variable `TF_ENABLE_ONEDNN_OPTS=0`.\n",
      "2023-05-11 12:48:59.674067: W tensorflow/compiler/xla/stream_executor/platform/default/dso_loader.cc:64] Could not load dynamic library 'libnvinfer.so.7'; dlerror: libnvrtc.so.11.0: cannot open shared object file: No such file or directory\n",
      "2023-05-11 12:48:59.674156: W tensorflow/compiler/xla/stream_executor/platform/default/dso_loader.cc:64] Could not load dynamic library 'libnvinfer_plugin.so.7'; dlerror: libnvinfer_plugin.so.7: cannot open shared object file: No such file or directory\n",
      "2023-05-11 12:48:59.674163: W tensorflow/compiler/tf2tensorrt/utils/py_utils.cc:38] TF-TRT Warning: Cannot dlopen some TensorRT libraries. If you would like to use Nvidia GPU with TensorRT, please make sure the missing libraries mentioned above are installed properly.\n"
     ]
    },
    {
     "ename": "ModuleNotFoundError",
     "evalue": "No module named 'imblearn'",
     "output_type": "error",
     "traceback": [
      "\u001b[0;31m---------------------------------------------------------------------------\u001b[0m",
      "\u001b[0;31mModuleNotFoundError\u001b[0m                       Traceback (most recent call last)",
      "Cell \u001b[0;32mIn[2], line 16\u001b[0m\n\u001b[1;32m     13\u001b[0m \u001b[39mfrom\u001b[39;00m \u001b[39mkeras\u001b[39;00m\u001b[39m.\u001b[39;00m\u001b[39mmodels\u001b[39;00m \u001b[39mimport\u001b[39;00m Sequential, model_from_json\n\u001b[1;32m     14\u001b[0m \u001b[39mfrom\u001b[39;00m \u001b[39mkeras\u001b[39;00m \u001b[39mimport\u001b[39;00m backend \u001b[39mas\u001b[39;00m K\n\u001b[0;32m---> 16\u001b[0m \u001b[39mfrom\u001b[39;00m \u001b[39mimblearn\u001b[39;00m\u001b[39m.\u001b[39;00m\u001b[39mover_sampling\u001b[39;00m \u001b[39mimport\u001b[39;00m RandomOverSampler\n\u001b[1;32m     18\u001b[0m get_ipython()\u001b[39m.\u001b[39mrun_line_magic(\u001b[39m'\u001b[39m\u001b[39mload_ext\u001b[39m\u001b[39m'\u001b[39m, \u001b[39m'\u001b[39m\u001b[39mautoreload\u001b[39m\u001b[39m'\u001b[39m)\n\u001b[1;32m     19\u001b[0m get_ipython()\u001b[39m.\u001b[39mrun_line_magic(\u001b[39m'\u001b[39m\u001b[39mautoreload\u001b[39m\u001b[39m'\u001b[39m, \u001b[39m'\u001b[39m\u001b[39m2\u001b[39m\u001b[39m'\u001b[39m)\n",
      "\u001b[0;31mModuleNotFoundError\u001b[0m: No module named 'imblearn'"
     ]
    }
   ],
   "source": [
    "import random\n",
    "import keras\n",
    "import os, glob\n",
    "import librosa, librosa.display\n",
    "\n",
    "import numpy as np\n",
    "import pandas as pd\n",
    "import tensorflow as tf\n",
    "from sklearn.metrics import confusion_matrix\n",
    "\n",
    "from keras.layers import Activation, Dense, Dropout, Conv2D, \\\n",
    "                         Flatten, MaxPooling2D\n",
    "from keras.models import Sequential, model_from_json\n",
    "from keras import backend as K\n",
    "\n",
    "from imblearn.over_sampling import RandomOverSampler\n",
    "\n",
    "%load_ext autoreload\n",
    "%autoreload 2\n"
   ]
  },
  {
   "cell_type": "code",
   "execution_count": 3,
   "metadata": {},
   "outputs": [
    {
     "data": {
      "text/plain": [
       "'2.11.0'"
      ]
     },
     "execution_count": 3,
     "metadata": {},
     "output_type": "execute_result"
    }
   ],
   "source": [
    "import tensorflow as tf\n",
    "tf.__version__"
   ]
  },
  {
   "cell_type": "code",
   "execution_count": 2,
   "metadata": {},
   "outputs": [],
   "source": [
    "import sys\n",
    "module_path = os.path.abspath(os.path.join('../'))\n",
    "if module_path not in sys.path:\n",
    "    sys.path.append(module_path)"
   ]
  },
  {
   "cell_type": "code",
   "execution_count": 3,
   "metadata": {},
   "outputs": [],
   "source": [
    "from settings import *"
   ]
  },
  {
   "cell_type": "code",
   "execution_count": 7,
   "metadata": {},
   "outputs": [
    {
     "data": {
      "text/plain": [
       "100"
      ]
     },
     "execution_count": 7,
     "metadata": {},
     "output_type": "execute_result"
    }
   ],
   "source": [
    "len(glob.glob(DATA_DIR_PIANO + \"**/*.wav\"))"
   ]
  },
  {
   "cell_type": "markdown",
   "metadata": {},
   "source": [
    "### Generate Metadata"
   ]
  },
  {
   "cell_type": "code",
   "execution_count": 4,
   "metadata": {},
   "outputs": [],
   "source": [
    "def df_info(f):\n",
    "    def inner(df, *args, **kwargs):\n",
    "        result = f(df, *args, **kwargs)\n",
    "        print(f\"After applying {f.__name__}, shape of df = {result.shape }\")\n",
    "        print(f\"Columns of df are {df.columns}\\n\")\n",
    "        return result\n",
    "    return inner\n",
    "\n",
    "# Construct Dataframe with all required values\n",
    "@df_info\n",
    "def construct_dataframe(df, instrument='Guitar'):\n",
    "    \"\"\"\n",
    "    Construct Dataframe with all required values\n",
    "    \"\"\"\n",
    "    if instrument=='Guitar':\n",
    "        file_path = glob.glob(DATA_DIR_GUITAR + \"**/*.wav\")\n",
    "        df['file_path'] = file_path\n",
    "        df['file_path'] = df['file_path'].map(lambda x: x[x.rindex('Only/')+len('Only/'):])\n",
    "        df['file_name'] = df['file_path'].map(lambda x: x[x.rindex('/')+1:])\n",
    "        df['class_name'] = df['file_path'].map(lambda x: x[:x.index('/')])\n",
    "        df['class_ID'] = df['class_name'].map(lambda x: CLASSES_MAP[x])\n",
    "    elif instrument=='Piano':\n",
    "        file_path = glob.glob(DATA_DIR_PIANO + \"**/*.wav\")\n",
    "        df['file_path'] = file_path\n",
    "        df['file_path'] = df['file_path'].map(lambda x: x[x.rindex('Piano/')+len('Piano/'):])\n",
    "        df['file_name'] = df['file_path'].map(lambda x: x[x.rindex('/')+1:])\n",
    "        df['class_name'] = df['file_path'].map(lambda x: x[:x.index('/')])\n",
    "        df['class_ID'] = df['class_name'].map(lambda x: CLASSES_MAP[x])\n",
    "    return df.copy()\n",
    "\n",
    "# Extract spectrogram from audio\n",
    "@df_info\n",
    "def get_spectrogram(df):\n",
    "    df['audio_series'] = df['file_path'].map(lambda x: librosa.load(DATA_DIR_GUITAR + x, duration=2))\n",
    "    df['y'] = df['audio_series'].map(lambda x: x[0])\n",
    "    df['sr'] = df['audio_series'].map(lambda x: x[1])\n",
    "    df['spectrogram'] = df.apply(lambda row: librosa.feature.melspectrogram(y=row['y'], sr=row['sr']), axis=1)\n",
    "    df.drop(columns='audio_series', inplace=True)\n",
    "    return df\n",
    "\n",
    "@df_info\n",
    "def get_count(df):\n",
    "    return df['class_name'].value_counts()\n",
    "\n",
    "@df_info\n",
    "def add_shape(df):\n",
    "    df['shape'] = df['spectrogram'].map(lambda x: x.shape)\n",
    "    return df"
   ]
  },
  {
   "cell_type": "markdown",
   "metadata": {},
   "source": [
    "### Generate raw data"
   ]
  },
  {
   "cell_type": "code",
   "execution_count": 5,
   "metadata": {
    "scrolled": true
   },
   "outputs": [
    {
     "name": "stdout",
     "output_type": "stream",
     "text": [
      "After applying construct_dataframe, shape of df = (100, 4)\n",
      "Columns of df are Index(['file_path', 'file_name', 'class_name', 'class_ID'], dtype='object')\n",
      "\n"
     ]
    },
    {
     "ename": "KeyboardInterrupt",
     "evalue": "",
     "output_type": "error",
     "traceback": [
      "\u001b[0;31m---------------------------------------------------------------------------\u001b[0m",
      "\u001b[0;31mKeyboardInterrupt\u001b[0m                         Traceback (most recent call last)",
      "\u001b[0;32m<ipython-input-5-c7e5ca1fd4da>\u001b[0m in \u001b[0;36m<module>\u001b[0;34m\u001b[0m\n\u001b[1;32m      1\u001b[0m \u001b[0mfile_path\u001b[0m \u001b[0;34m=\u001b[0m \u001b[0mglob\u001b[0m\u001b[0;34m.\u001b[0m\u001b[0mglob\u001b[0m\u001b[0;34m(\u001b[0m\u001b[0mDATA_DIR_GUITAR\u001b[0m \u001b[0;34m+\u001b[0m \u001b[0;34m\"**/*.wav\"\u001b[0m\u001b[0;34m)\u001b[0m\u001b[0;34m\u001b[0m\u001b[0;34m\u001b[0m\u001b[0m\n\u001b[1;32m      2\u001b[0m \u001b[0mdata_df_raw\u001b[0m \u001b[0;34m=\u001b[0m \u001b[0mconstruct_dataframe\u001b[0m\u001b[0;34m(\u001b[0m\u001b[0mpd\u001b[0m\u001b[0;34m.\u001b[0m\u001b[0mDataFrame\u001b[0m\u001b[0;34m(\u001b[0m\u001b[0;34m)\u001b[0m\u001b[0;34m,\u001b[0m \u001b[0minstrument\u001b[0m\u001b[0;34m=\u001b[0m\u001b[0;34m'Piano'\u001b[0m\u001b[0;34m)\u001b[0m\u001b[0;31m\\\u001b[0m\u001b[0;34m\u001b[0m\u001b[0;34m\u001b[0m\u001b[0m\n\u001b[0;32m----> 3\u001b[0;31m                             \u001b[0;34m.\u001b[0m\u001b[0mpipe\u001b[0m\u001b[0;34m(\u001b[0m\u001b[0mget_spectrogram\u001b[0m\u001b[0;34m)\u001b[0m\u001b[0;31m\\\u001b[0m\u001b[0;34m\u001b[0m\u001b[0;34m\u001b[0m\u001b[0m\n\u001b[0m\u001b[1;32m      4\u001b[0m                             \u001b[0;34m.\u001b[0m\u001b[0mpipe\u001b[0m\u001b[0;34m(\u001b[0m\u001b[0madd_shape\u001b[0m\u001b[0;34m)\u001b[0m\u001b[0;34m\u001b[0m\u001b[0;34m\u001b[0m\u001b[0m\n\u001b[1;32m      5\u001b[0m \u001b[0;34m\u001b[0m\u001b[0m\n",
      "\u001b[0;32m~/.local/lib/python3.6/site-packages/pandas/core/generic.py\u001b[0m in \u001b[0;36mpipe\u001b[0;34m(self, func, *args, **kwargs)\u001b[0m\n\u001b[1;32m   5048\u001b[0m         ...  )  # doctest: +SKIP\n\u001b[1;32m   5049\u001b[0m     \"\"\"\n\u001b[0;32m-> 5050\u001b[0;31m         \u001b[0;32mreturn\u001b[0m \u001b[0mcom\u001b[0m\u001b[0;34m.\u001b[0m\u001b[0mpipe\u001b[0m\u001b[0;34m(\u001b[0m\u001b[0mself\u001b[0m\u001b[0;34m,\u001b[0m \u001b[0mfunc\u001b[0m\u001b[0;34m,\u001b[0m \u001b[0;34m*\u001b[0m\u001b[0margs\u001b[0m\u001b[0;34m,\u001b[0m \u001b[0;34m**\u001b[0m\u001b[0mkwargs\u001b[0m\u001b[0;34m)\u001b[0m\u001b[0;34m\u001b[0m\u001b[0;34m\u001b[0m\u001b[0m\n\u001b[0m\u001b[1;32m   5051\u001b[0m \u001b[0;34m\u001b[0m\u001b[0m\n\u001b[1;32m   5052\u001b[0m     _shared_docs[\"aggregate\"] = dedent(\n",
      "\u001b[0;32m~/.local/lib/python3.6/site-packages/pandas/core/common.py\u001b[0m in \u001b[0;36mpipe\u001b[0;34m(obj, func, *args, **kwargs)\u001b[0m\n\u001b[1;32m    469\u001b[0m         \u001b[0;32mreturn\u001b[0m \u001b[0mfunc\u001b[0m\u001b[0;34m(\u001b[0m\u001b[0;34m*\u001b[0m\u001b[0margs\u001b[0m\u001b[0;34m,\u001b[0m \u001b[0;34m**\u001b[0m\u001b[0mkwargs\u001b[0m\u001b[0;34m)\u001b[0m\u001b[0;34m\u001b[0m\u001b[0;34m\u001b[0m\u001b[0m\n\u001b[1;32m    470\u001b[0m     \u001b[0;32melse\u001b[0m\u001b[0;34m:\u001b[0m\u001b[0;34m\u001b[0m\u001b[0;34m\u001b[0m\u001b[0m\n\u001b[0;32m--> 471\u001b[0;31m         \u001b[0;32mreturn\u001b[0m \u001b[0mfunc\u001b[0m\u001b[0;34m(\u001b[0m\u001b[0mobj\u001b[0m\u001b[0;34m,\u001b[0m \u001b[0;34m*\u001b[0m\u001b[0margs\u001b[0m\u001b[0;34m,\u001b[0m \u001b[0;34m**\u001b[0m\u001b[0mkwargs\u001b[0m\u001b[0;34m)\u001b[0m\u001b[0;34m\u001b[0m\u001b[0;34m\u001b[0m\u001b[0m\n\u001b[0m\u001b[1;32m    472\u001b[0m \u001b[0;34m\u001b[0m\u001b[0m\n\u001b[1;32m    473\u001b[0m \u001b[0;34m\u001b[0m\u001b[0m\n",
      "\u001b[0;32m<ipython-input-4-1db51a90b2ee>\u001b[0m in \u001b[0;36minner\u001b[0;34m(df, *args, **kwargs)\u001b[0m\n\u001b[1;32m      1\u001b[0m \u001b[0;32mdef\u001b[0m \u001b[0mdf_info\u001b[0m\u001b[0;34m(\u001b[0m\u001b[0mf\u001b[0m\u001b[0;34m)\u001b[0m\u001b[0;34m:\u001b[0m\u001b[0;34m\u001b[0m\u001b[0;34m\u001b[0m\u001b[0m\n\u001b[1;32m      2\u001b[0m     \u001b[0;32mdef\u001b[0m \u001b[0minner\u001b[0m\u001b[0;34m(\u001b[0m\u001b[0mdf\u001b[0m\u001b[0;34m,\u001b[0m \u001b[0;34m*\u001b[0m\u001b[0margs\u001b[0m\u001b[0;34m,\u001b[0m \u001b[0;34m**\u001b[0m\u001b[0mkwargs\u001b[0m\u001b[0;34m)\u001b[0m\u001b[0;34m:\u001b[0m\u001b[0;34m\u001b[0m\u001b[0;34m\u001b[0m\u001b[0m\n\u001b[0;32m----> 3\u001b[0;31m         \u001b[0mresult\u001b[0m \u001b[0;34m=\u001b[0m \u001b[0mf\u001b[0m\u001b[0;34m(\u001b[0m\u001b[0mdf\u001b[0m\u001b[0;34m,\u001b[0m \u001b[0;34m*\u001b[0m\u001b[0margs\u001b[0m\u001b[0;34m,\u001b[0m \u001b[0;34m**\u001b[0m\u001b[0mkwargs\u001b[0m\u001b[0;34m)\u001b[0m\u001b[0;34m\u001b[0m\u001b[0;34m\u001b[0m\u001b[0m\n\u001b[0m\u001b[1;32m      4\u001b[0m         \u001b[0mprint\u001b[0m\u001b[0;34m(\u001b[0m\u001b[0;34mf\"After applying {f.__name__}, shape of df = {result.shape }\"\u001b[0m\u001b[0;34m)\u001b[0m\u001b[0;34m\u001b[0m\u001b[0;34m\u001b[0m\u001b[0m\n\u001b[1;32m      5\u001b[0m         \u001b[0mprint\u001b[0m\u001b[0;34m(\u001b[0m\u001b[0;34mf\"Columns of df are {df.columns}\\n\"\u001b[0m\u001b[0;34m)\u001b[0m\u001b[0;34m\u001b[0m\u001b[0;34m\u001b[0m\u001b[0m\n",
      "\u001b[0;32m<ipython-input-4-1db51a90b2ee>\u001b[0m in \u001b[0;36mget_spectrogram\u001b[0;34m(df)\u001b[0m\n\u001b[1;32m     32\u001b[0m \u001b[0;34m@\u001b[0m\u001b[0mdf_info\u001b[0m\u001b[0;34m\u001b[0m\u001b[0;34m\u001b[0m\u001b[0m\n\u001b[1;32m     33\u001b[0m \u001b[0;32mdef\u001b[0m \u001b[0mget_spectrogram\u001b[0m\u001b[0;34m(\u001b[0m\u001b[0mdf\u001b[0m\u001b[0;34m)\u001b[0m\u001b[0;34m:\u001b[0m\u001b[0;34m\u001b[0m\u001b[0;34m\u001b[0m\u001b[0m\n\u001b[0;32m---> 34\u001b[0;31m     \u001b[0mdf\u001b[0m\u001b[0;34m[\u001b[0m\u001b[0;34m'audio_series'\u001b[0m\u001b[0;34m]\u001b[0m \u001b[0;34m=\u001b[0m \u001b[0mdf\u001b[0m\u001b[0;34m[\u001b[0m\u001b[0;34m'file_path'\u001b[0m\u001b[0;34m]\u001b[0m\u001b[0;34m.\u001b[0m\u001b[0mmap\u001b[0m\u001b[0;34m(\u001b[0m\u001b[0;32mlambda\u001b[0m \u001b[0mx\u001b[0m\u001b[0;34m:\u001b[0m \u001b[0mlibrosa\u001b[0m\u001b[0;34m.\u001b[0m\u001b[0mload\u001b[0m\u001b[0;34m(\u001b[0m\u001b[0mDATA_DIR_GUITAR\u001b[0m \u001b[0;34m+\u001b[0m \u001b[0mx\u001b[0m\u001b[0;34m,\u001b[0m \u001b[0mduration\u001b[0m\u001b[0;34m=\u001b[0m\u001b[0;36m2\u001b[0m\u001b[0;34m)\u001b[0m\u001b[0;34m)\u001b[0m\u001b[0;34m\u001b[0m\u001b[0;34m\u001b[0m\u001b[0m\n\u001b[0m\u001b[1;32m     35\u001b[0m     \u001b[0mdf\u001b[0m\u001b[0;34m[\u001b[0m\u001b[0;34m'y'\u001b[0m\u001b[0;34m]\u001b[0m \u001b[0;34m=\u001b[0m \u001b[0mdf\u001b[0m\u001b[0;34m[\u001b[0m\u001b[0;34m'audio_series'\u001b[0m\u001b[0;34m]\u001b[0m\u001b[0;34m.\u001b[0m\u001b[0mmap\u001b[0m\u001b[0;34m(\u001b[0m\u001b[0;32mlambda\u001b[0m \u001b[0mx\u001b[0m\u001b[0;34m:\u001b[0m \u001b[0mx\u001b[0m\u001b[0;34m[\u001b[0m\u001b[0;36m0\u001b[0m\u001b[0;34m]\u001b[0m\u001b[0;34m)\u001b[0m\u001b[0;34m\u001b[0m\u001b[0;34m\u001b[0m\u001b[0m\n\u001b[1;32m     36\u001b[0m     \u001b[0mdf\u001b[0m\u001b[0;34m[\u001b[0m\u001b[0;34m'sr'\u001b[0m\u001b[0;34m]\u001b[0m \u001b[0;34m=\u001b[0m \u001b[0mdf\u001b[0m\u001b[0;34m[\u001b[0m\u001b[0;34m'audio_series'\u001b[0m\u001b[0;34m]\u001b[0m\u001b[0;34m.\u001b[0m\u001b[0mmap\u001b[0m\u001b[0;34m(\u001b[0m\u001b[0;32mlambda\u001b[0m \u001b[0mx\u001b[0m\u001b[0;34m:\u001b[0m \u001b[0mx\u001b[0m\u001b[0;34m[\u001b[0m\u001b[0;36m1\u001b[0m\u001b[0;34m]\u001b[0m\u001b[0;34m)\u001b[0m\u001b[0;34m\u001b[0m\u001b[0;34m\u001b[0m\u001b[0m\n",
      "\u001b[0;32m~/.local/lib/python3.6/site-packages/pandas/core/series.py\u001b[0m in \u001b[0;36mmap\u001b[0;34m(self, arg, na_action)\u001b[0m\n\u001b[1;32m   3981\u001b[0m         \u001b[0mdtype\u001b[0m\u001b[0;34m:\u001b[0m \u001b[0mobject\u001b[0m\u001b[0;34m\u001b[0m\u001b[0;34m\u001b[0m\u001b[0m\n\u001b[1;32m   3982\u001b[0m         \"\"\"\n\u001b[0;32m-> 3983\u001b[0;31m         \u001b[0mnew_values\u001b[0m \u001b[0;34m=\u001b[0m \u001b[0msuper\u001b[0m\u001b[0;34m(\u001b[0m\u001b[0;34m)\u001b[0m\u001b[0;34m.\u001b[0m\u001b[0m_map_values\u001b[0m\u001b[0;34m(\u001b[0m\u001b[0marg\u001b[0m\u001b[0;34m,\u001b[0m \u001b[0mna_action\u001b[0m\u001b[0;34m=\u001b[0m\u001b[0mna_action\u001b[0m\u001b[0;34m)\u001b[0m\u001b[0;34m\u001b[0m\u001b[0;34m\u001b[0m\u001b[0m\n\u001b[0m\u001b[1;32m   3984\u001b[0m         return self._constructor(new_values, index=self.index).__finalize__(\n\u001b[1;32m   3985\u001b[0m             \u001b[0mself\u001b[0m\u001b[0;34m,\u001b[0m \u001b[0mmethod\u001b[0m\u001b[0;34m=\u001b[0m\u001b[0;34m\"map\"\u001b[0m\u001b[0;34m\u001b[0m\u001b[0;34m\u001b[0m\u001b[0m\n",
      "\u001b[0;32m~/.local/lib/python3.6/site-packages/pandas/core/base.py\u001b[0m in \u001b[0;36m_map_values\u001b[0;34m(self, mapper, na_action)\u001b[0m\n\u001b[1;32m   1158\u001b[0m \u001b[0;34m\u001b[0m\u001b[0m\n\u001b[1;32m   1159\u001b[0m         \u001b[0;31m# mapper is a function\u001b[0m\u001b[0;34m\u001b[0m\u001b[0;34m\u001b[0m\u001b[0;34m\u001b[0m\u001b[0m\n\u001b[0;32m-> 1160\u001b[0;31m         \u001b[0mnew_values\u001b[0m \u001b[0;34m=\u001b[0m \u001b[0mmap_f\u001b[0m\u001b[0;34m(\u001b[0m\u001b[0mvalues\u001b[0m\u001b[0;34m,\u001b[0m \u001b[0mmapper\u001b[0m\u001b[0;34m)\u001b[0m\u001b[0;34m\u001b[0m\u001b[0;34m\u001b[0m\u001b[0m\n\u001b[0m\u001b[1;32m   1161\u001b[0m \u001b[0;34m\u001b[0m\u001b[0m\n\u001b[1;32m   1162\u001b[0m         \u001b[0;32mreturn\u001b[0m \u001b[0mnew_values\u001b[0m\u001b[0;34m\u001b[0m\u001b[0;34m\u001b[0m\u001b[0m\n",
      "\u001b[0;32mpandas/_libs/lib.pyx\u001b[0m in \u001b[0;36mpandas._libs.lib.map_infer\u001b[0;34m()\u001b[0m\n",
      "\u001b[0;32m<ipython-input-4-1db51a90b2ee>\u001b[0m in \u001b[0;36m<lambda>\u001b[0;34m(x)\u001b[0m\n\u001b[1;32m     32\u001b[0m \u001b[0;34m@\u001b[0m\u001b[0mdf_info\u001b[0m\u001b[0;34m\u001b[0m\u001b[0;34m\u001b[0m\u001b[0m\n\u001b[1;32m     33\u001b[0m \u001b[0;32mdef\u001b[0m \u001b[0mget_spectrogram\u001b[0m\u001b[0;34m(\u001b[0m\u001b[0mdf\u001b[0m\u001b[0;34m)\u001b[0m\u001b[0;34m:\u001b[0m\u001b[0;34m\u001b[0m\u001b[0;34m\u001b[0m\u001b[0m\n\u001b[0;32m---> 34\u001b[0;31m     \u001b[0mdf\u001b[0m\u001b[0;34m[\u001b[0m\u001b[0;34m'audio_series'\u001b[0m\u001b[0;34m]\u001b[0m \u001b[0;34m=\u001b[0m \u001b[0mdf\u001b[0m\u001b[0;34m[\u001b[0m\u001b[0;34m'file_path'\u001b[0m\u001b[0;34m]\u001b[0m\u001b[0;34m.\u001b[0m\u001b[0mmap\u001b[0m\u001b[0;34m(\u001b[0m\u001b[0;32mlambda\u001b[0m \u001b[0mx\u001b[0m\u001b[0;34m:\u001b[0m \u001b[0mlibrosa\u001b[0m\u001b[0;34m.\u001b[0m\u001b[0mload\u001b[0m\u001b[0;34m(\u001b[0m\u001b[0mDATA_DIR_GUITAR\u001b[0m \u001b[0;34m+\u001b[0m \u001b[0mx\u001b[0m\u001b[0;34m,\u001b[0m \u001b[0mduration\u001b[0m\u001b[0;34m=\u001b[0m\u001b[0;36m2\u001b[0m\u001b[0;34m)\u001b[0m\u001b[0;34m)\u001b[0m\u001b[0;34m\u001b[0m\u001b[0;34m\u001b[0m\u001b[0m\n\u001b[0m\u001b[1;32m     35\u001b[0m     \u001b[0mdf\u001b[0m\u001b[0;34m[\u001b[0m\u001b[0;34m'y'\u001b[0m\u001b[0;34m]\u001b[0m \u001b[0;34m=\u001b[0m \u001b[0mdf\u001b[0m\u001b[0;34m[\u001b[0m\u001b[0;34m'audio_series'\u001b[0m\u001b[0;34m]\u001b[0m\u001b[0;34m.\u001b[0m\u001b[0mmap\u001b[0m\u001b[0;34m(\u001b[0m\u001b[0;32mlambda\u001b[0m \u001b[0mx\u001b[0m\u001b[0;34m:\u001b[0m \u001b[0mx\u001b[0m\u001b[0;34m[\u001b[0m\u001b[0;36m0\u001b[0m\u001b[0;34m]\u001b[0m\u001b[0;34m)\u001b[0m\u001b[0;34m\u001b[0m\u001b[0;34m\u001b[0m\u001b[0m\n\u001b[1;32m     36\u001b[0m     \u001b[0mdf\u001b[0m\u001b[0;34m[\u001b[0m\u001b[0;34m'sr'\u001b[0m\u001b[0;34m]\u001b[0m \u001b[0;34m=\u001b[0m \u001b[0mdf\u001b[0m\u001b[0;34m[\u001b[0m\u001b[0;34m'audio_series'\u001b[0m\u001b[0;34m]\u001b[0m\u001b[0;34m.\u001b[0m\u001b[0mmap\u001b[0m\u001b[0;34m(\u001b[0m\u001b[0;32mlambda\u001b[0m \u001b[0mx\u001b[0m\u001b[0;34m:\u001b[0m \u001b[0mx\u001b[0m\u001b[0;34m[\u001b[0m\u001b[0;36m1\u001b[0m\u001b[0;34m]\u001b[0m\u001b[0;34m)\u001b[0m\u001b[0;34m\u001b[0m\u001b[0;34m\u001b[0m\u001b[0m\n",
      "\u001b[0;32m~/miniconda3/envs/danigil-cr/lib/python3.6/site-packages/librosa/core/audio.py\u001b[0m in \u001b[0;36mload\u001b[0;34m(path, sr, mono, offset, duration, dtype, res_type)\u001b[0m\n\u001b[1;32m    158\u001b[0m \u001b[0;34m\u001b[0m\u001b[0m\n\u001b[1;32m    159\u001b[0m         \u001b[0;32mif\u001b[0m \u001b[0msr\u001b[0m \u001b[0;32mis\u001b[0m \u001b[0;32mnot\u001b[0m \u001b[0;32mNone\u001b[0m\u001b[0;34m:\u001b[0m\u001b[0;34m\u001b[0m\u001b[0;34m\u001b[0m\u001b[0m\n\u001b[0;32m--> 160\u001b[0;31m             \u001b[0my\u001b[0m \u001b[0;34m=\u001b[0m \u001b[0mresample\u001b[0m\u001b[0;34m(\u001b[0m\u001b[0my\u001b[0m\u001b[0;34m,\u001b[0m \u001b[0msr_native\u001b[0m\u001b[0;34m,\u001b[0m \u001b[0msr\u001b[0m\u001b[0;34m,\u001b[0m \u001b[0mres_type\u001b[0m\u001b[0;34m=\u001b[0m\u001b[0mres_type\u001b[0m\u001b[0;34m)\u001b[0m\u001b[0;34m\u001b[0m\u001b[0;34m\u001b[0m\u001b[0m\n\u001b[0m\u001b[1;32m    161\u001b[0m \u001b[0;34m\u001b[0m\u001b[0m\n\u001b[1;32m    162\u001b[0m         \u001b[0;32melse\u001b[0m\u001b[0;34m:\u001b[0m\u001b[0;34m\u001b[0m\u001b[0;34m\u001b[0m\u001b[0m\n",
      "\u001b[0;32m~/miniconda3/envs/danigil-cr/lib/python3.6/site-packages/librosa/core/audio.py\u001b[0m in \u001b[0;36mresample\u001b[0;34m(y, orig_sr, target_sr, res_type, fix, scale, **kwargs)\u001b[0m\n\u001b[1;32m    284\u001b[0m         \u001b[0my_hat\u001b[0m \u001b[0;34m=\u001b[0m \u001b[0mscipy\u001b[0m\u001b[0;34m.\u001b[0m\u001b[0msignal\u001b[0m\u001b[0;34m.\u001b[0m\u001b[0mresample\u001b[0m\u001b[0;34m(\u001b[0m\u001b[0my\u001b[0m\u001b[0;34m,\u001b[0m \u001b[0mn_samples\u001b[0m\u001b[0;34m,\u001b[0m \u001b[0maxis\u001b[0m\u001b[0;34m=\u001b[0m\u001b[0;34m-\u001b[0m\u001b[0;36m1\u001b[0m\u001b[0;34m)\u001b[0m\u001b[0;34m\u001b[0m\u001b[0;34m\u001b[0m\u001b[0m\n\u001b[1;32m    285\u001b[0m     \u001b[0;32melse\u001b[0m\u001b[0;34m:\u001b[0m\u001b[0;34m\u001b[0m\u001b[0;34m\u001b[0m\u001b[0m\n\u001b[0;32m--> 286\u001b[0;31m         \u001b[0my_hat\u001b[0m \u001b[0;34m=\u001b[0m \u001b[0mresampy\u001b[0m\u001b[0;34m.\u001b[0m\u001b[0mresample\u001b[0m\u001b[0;34m(\u001b[0m\u001b[0my\u001b[0m\u001b[0;34m,\u001b[0m \u001b[0morig_sr\u001b[0m\u001b[0;34m,\u001b[0m \u001b[0mtarget_sr\u001b[0m\u001b[0;34m,\u001b[0m \u001b[0mfilter\u001b[0m\u001b[0;34m=\u001b[0m\u001b[0mres_type\u001b[0m\u001b[0;34m,\u001b[0m \u001b[0maxis\u001b[0m\u001b[0;34m=\u001b[0m\u001b[0;34m-\u001b[0m\u001b[0;36m1\u001b[0m\u001b[0;34m)\u001b[0m\u001b[0;34m\u001b[0m\u001b[0;34m\u001b[0m\u001b[0m\n\u001b[0m\u001b[1;32m    287\u001b[0m \u001b[0;34m\u001b[0m\u001b[0m\n\u001b[1;32m    288\u001b[0m     \u001b[0;32mif\u001b[0m \u001b[0mfix\u001b[0m\u001b[0;34m:\u001b[0m\u001b[0;34m\u001b[0m\u001b[0;34m\u001b[0m\u001b[0m\n",
      "\u001b[0;32m~/miniconda3/envs/danigil-cr/lib/python3.6/site-packages/resampy/core.py\u001b[0m in \u001b[0;36mresample\u001b[0;34m(x, sr_orig, sr_new, axis, filter, **kwargs)\u001b[0m\n\u001b[1;32m    118\u001b[0m     \u001b[0mx_2d\u001b[0m \u001b[0;34m=\u001b[0m \u001b[0mx\u001b[0m\u001b[0;34m.\u001b[0m\u001b[0mswapaxes\u001b[0m\u001b[0;34m(\u001b[0m\u001b[0;36m0\u001b[0m\u001b[0;34m,\u001b[0m \u001b[0maxis\u001b[0m\u001b[0;34m)\u001b[0m\u001b[0;34m.\u001b[0m\u001b[0mreshape\u001b[0m\u001b[0;34m(\u001b[0m\u001b[0;34m(\u001b[0m\u001b[0mx\u001b[0m\u001b[0;34m.\u001b[0m\u001b[0mshape\u001b[0m\u001b[0;34m[\u001b[0m\u001b[0maxis\u001b[0m\u001b[0;34m]\u001b[0m\u001b[0;34m,\u001b[0m \u001b[0;34m-\u001b[0m\u001b[0;36m1\u001b[0m\u001b[0;34m)\u001b[0m\u001b[0;34m)\u001b[0m\u001b[0;34m\u001b[0m\u001b[0;34m\u001b[0m\u001b[0m\n\u001b[1;32m    119\u001b[0m     \u001b[0my_2d\u001b[0m \u001b[0;34m=\u001b[0m \u001b[0my\u001b[0m\u001b[0;34m.\u001b[0m\u001b[0mswapaxes\u001b[0m\u001b[0;34m(\u001b[0m\u001b[0;36m0\u001b[0m\u001b[0;34m,\u001b[0m \u001b[0maxis\u001b[0m\u001b[0;34m)\u001b[0m\u001b[0;34m.\u001b[0m\u001b[0mreshape\u001b[0m\u001b[0;34m(\u001b[0m\u001b[0;34m(\u001b[0m\u001b[0my\u001b[0m\u001b[0;34m.\u001b[0m\u001b[0mshape\u001b[0m\u001b[0;34m[\u001b[0m\u001b[0maxis\u001b[0m\u001b[0;34m]\u001b[0m\u001b[0;34m,\u001b[0m \u001b[0;34m-\u001b[0m\u001b[0;36m1\u001b[0m\u001b[0;34m)\u001b[0m\u001b[0;34m)\u001b[0m\u001b[0;34m\u001b[0m\u001b[0;34m\u001b[0m\u001b[0m\n\u001b[0;32m--> 120\u001b[0;31m     \u001b[0mresample_f\u001b[0m\u001b[0;34m(\u001b[0m\u001b[0mx_2d\u001b[0m\u001b[0;34m,\u001b[0m \u001b[0my_2d\u001b[0m\u001b[0;34m,\u001b[0m \u001b[0msample_ratio\u001b[0m\u001b[0;34m,\u001b[0m \u001b[0minterp_win\u001b[0m\u001b[0;34m,\u001b[0m \u001b[0minterp_delta\u001b[0m\u001b[0;34m,\u001b[0m \u001b[0mprecision\u001b[0m\u001b[0;34m)\u001b[0m\u001b[0;34m\u001b[0m\u001b[0;34m\u001b[0m\u001b[0m\n\u001b[0m\u001b[1;32m    121\u001b[0m \u001b[0;34m\u001b[0m\u001b[0m\n\u001b[1;32m    122\u001b[0m     \u001b[0;32mreturn\u001b[0m \u001b[0my\u001b[0m\u001b[0;34m\u001b[0m\u001b[0;34m\u001b[0m\u001b[0m\n",
      "\u001b[0;31mKeyboardInterrupt\u001b[0m: "
     ]
    }
   ],
   "source": [
    "file_path = glob.glob(DATA_DIR_GUITAR + \"**/*.wav\")\n",
    "data_df_raw = construct_dataframe(pd.DataFrame(), instrument='Piano')\\\n",
    "                            .pipe(get_spectrogram)\\\n",
    "                            .pipe(add_shape)\n",
    "            \n"
   ]
  },
  {
   "cell_type": "code",
   "execution_count": 11,
   "metadata": {
    "scrolled": true
   },
   "outputs": [
    {
     "name": "stdout",
     "output_type": "stream",
     "text": [
      "After applying get_count, shape of df = (10,)\n",
      "Columns of df are Index(['file_path', 'file_name', 'class_name', 'class_ID', 'y', 'sr',\n",
      "       'spectrogram', 'shape'],\n",
      "      dtype='object')\n",
      "\n"
     ]
    },
    {
     "data": {
      "text/plain": [
       "g     10\n",
       "bm    10\n",
       "d     10\n",
       "am    10\n",
       "a     10\n",
       "e     10\n",
       "c     10\n",
       "f     10\n",
       "em    10\n",
       "dm    10\n",
       "Name: class_name, dtype: int64"
      ]
     },
     "execution_count": 11,
     "metadata": {},
     "output_type": "execute_result"
    }
   ],
   "source": [
    "get_count(data_df_raw)"
   ]
  },
  {
   "cell_type": "markdown",
   "metadata": {},
   "source": [
    "### Save raw data\n"
   ]
  },
  {
   "cell_type": "markdown",
   "metadata": {},
   "source": [
    "- csv just for human readable format\n",
    "- pkl is actually used since it can store numpy arrays"
   ]
  },
  {
   "cell_type": "code",
   "execution_count": 12,
   "metadata": {
    "scrolled": true
   },
   "outputs": [],
   "source": [
    "data_df_raw.to_csv(os.path.join(METADATA_DIR_RAW, 'data_piano.csv'), index=False)\n",
    "data_df_raw.to_pickle(os.path.join(METADATA_DIR_RAW, 'data_piano.pkl'))"
   ]
  },
  {
   "cell_type": "code",
   "execution_count": 9,
   "metadata": {},
   "outputs": [],
   "source": [
    "data_df_raw = pd.read_pickle(os.path.join(METADATA_DIR_RAW, 'data_piano.pkl'))"
   ]
  },
  {
   "cell_type": "code",
   "execution_count": 9,
   "metadata": {
    "scrolled": true
   },
   "outputs": [
    {
     "data": {
      "text/html": [
       "<div>\n",
       "<style scoped>\n",
       "    .dataframe tbody tr th:only-of-type {\n",
       "        vertical-align: middle;\n",
       "    }\n",
       "\n",
       "    .dataframe tbody tr th {\n",
       "        vertical-align: top;\n",
       "    }\n",
       "\n",
       "    .dataframe thead th {\n",
       "        text-align: right;\n",
       "    }\n",
       "</style>\n",
       "<table border=\"1\" class=\"dataframe\">\n",
       "  <thead>\n",
       "    <tr style=\"text-align: right;\">\n",
       "      <th></th>\n",
       "      <th>file_path</th>\n",
       "      <th>file_name</th>\n",
       "      <th>class_name</th>\n",
       "      <th>class_ID</th>\n",
       "      <th>y</th>\n",
       "      <th>sr</th>\n",
       "      <th>spectrogram</th>\n",
       "      <th>shape</th>\n",
       "    </tr>\n",
       "  </thead>\n",
       "  <tbody>\n",
       "    <tr>\n",
       "      <th>0</th>\n",
       "      <td>em/em8.wav</td>\n",
       "      <td>em8.wav</td>\n",
       "      <td>em</td>\n",
       "      <td>7</td>\n",
       "      <td>[-0.00038043846, -0.0006151192, -0.00049563346...</td>\n",
       "      <td>22050</td>\n",
       "      <td>[[0.00012578518248171133, 0.000171102419808094...</td>\n",
       "      <td>(128, 87)</td>\n",
       "    </tr>\n",
       "    <tr>\n",
       "      <th>1</th>\n",
       "      <td>em/em6.wav</td>\n",
       "      <td>em6.wav</td>\n",
       "      <td>em</td>\n",
       "      <td>7</td>\n",
       "      <td>[0.00013434298, 0.00014084009, 0.00013988353, ...</td>\n",
       "      <td>22050</td>\n",
       "      <td>[[0.00012171085505027163, 0.000294527881420276...</td>\n",
       "      <td>(128, 72)</td>\n",
       "    </tr>\n",
       "    <tr>\n",
       "      <th>2</th>\n",
       "      <td>em/em7.wav</td>\n",
       "      <td>em7.wav</td>\n",
       "      <td>em</td>\n",
       "      <td>7</td>\n",
       "      <td>[0.00017490347, 0.00021111853, 0.00017389591, ...</td>\n",
       "      <td>22050</td>\n",
       "      <td>[[0.00031737319756304863, 0.000196246765195240...</td>\n",
       "      <td>(128, 80)</td>\n",
       "    </tr>\n",
       "    <tr>\n",
       "      <th>3</th>\n",
       "      <td>em/em3.wav</td>\n",
       "      <td>em3.wav</td>\n",
       "      <td>em</td>\n",
       "      <td>7</td>\n",
       "      <td>[-0.00078138773, -0.00071918656, -0.0003369788...</td>\n",
       "      <td>22050</td>\n",
       "      <td>[[0.00032534225279899745, 0.000222313769747151...</td>\n",
       "      <td>(128, 79)</td>\n",
       "    </tr>\n",
       "    <tr>\n",
       "      <th>4</th>\n",
       "      <td>em/em5.wav</td>\n",
       "      <td>em5.wav</td>\n",
       "      <td>em</td>\n",
       "      <td>7</td>\n",
       "      <td>[0.00057056657, 0.0005140589, -0.0009413323, -...</td>\n",
       "      <td>22050</td>\n",
       "      <td>[[0.006174738186107656, 0.0032572471898456396,...</td>\n",
       "      <td>(128, 70)</td>\n",
       "    </tr>\n",
       "  </tbody>\n",
       "</table>\n",
       "</div>"
      ],
      "text/plain": [
       "    file_path file_name class_name  class_ID  \\\n",
       "0  em/em8.wav   em8.wav         em         7   \n",
       "1  em/em6.wav   em6.wav         em         7   \n",
       "2  em/em7.wav   em7.wav         em         7   \n",
       "3  em/em3.wav   em3.wav         em         7   \n",
       "4  em/em5.wav   em5.wav         em         7   \n",
       "\n",
       "                                                   y     sr  \\\n",
       "0  [-0.00038043846, -0.0006151192, -0.00049563346...  22050   \n",
       "1  [0.00013434298, 0.00014084009, 0.00013988353, ...  22050   \n",
       "2  [0.00017490347, 0.00021111853, 0.00017389591, ...  22050   \n",
       "3  [-0.00078138773, -0.00071918656, -0.0003369788...  22050   \n",
       "4  [0.00057056657, 0.0005140589, -0.0009413323, -...  22050   \n",
       "\n",
       "                                         spectrogram      shape  \n",
       "0  [[0.00012578518248171133, 0.000171102419808094...  (128, 87)  \n",
       "1  [[0.00012171085505027163, 0.000294527881420276...  (128, 72)  \n",
       "2  [[0.00031737319756304863, 0.000196246765195240...  (128, 80)  \n",
       "3  [[0.00032534225279899745, 0.000222313769747151...  (128, 79)  \n",
       "4  [[0.006174738186107656, 0.0032572471898456396,...  (128, 70)  "
      ]
     },
     "execution_count": 9,
     "metadata": {},
     "output_type": "execute_result"
    }
   ],
   "source": [
    "data_df_raw.head()"
   ]
  },
  {
   "cell_type": "markdown",
   "metadata": {},
   "source": [
    "### Process and save processed data"
   ]
  },
  {
   "cell_type": "markdown",
   "metadata": {},
   "source": [
    "- csv just for human readable format\n",
    "- pkl is actually used since it can store numpy arrays"
   ]
  },
  {
   "cell_type": "code",
   "execution_count": 10,
   "metadata": {},
   "outputs": [],
   "source": [
    "# Maintain same shape\n",
    "@df_info\n",
    "def clean_shape(df):\n",
    "    max_shape = df['spectrogram'].map(lambda x: x.shape).value_counts().index[0]\n",
    "    print(f\"The most frequent shape is {max_shape}\")\n",
    "    df['shape'] = df['spectrogram'].map(lambda x: x.shape)\n",
    "    df = df[df['shape']==max_shape]\n",
    "    df.drop(columns='shape', inplace=True)\n",
    "    df.reset_index(drop=True, inplace=True)\n",
    "    return df\n",
    "\n",
    "@df_info\n",
    "def process(df):\n",
    "    df = (df.pipe(clean_shape)\n",
    "                .pipe(over_sample)\n",
    "    )\n",
    "    df = df[['spectrogram','class_ID', 'class_name']]\n",
    "    return df\n",
    "\n",
    "#Over sampling data\n",
    "@df_info\n",
    "def over_sample(df):\n",
    "    oversample = RandomOverSampler(sampling_strategy='auto')\n",
    "    X, y = df['spectrogram'].values, df['class_ID'].values\n",
    "    X = X.reshape(-1, 1)\n",
    "    X, y = oversample.fit_resample(X, y)\n",
    "    df = pd.DataFrame()\n",
    "    df['spectrogram'] = pd.Series([np.array(x[0]) for x in X])\n",
    "    df['class_ID'] = pd.Series(y)\n",
    "    df['class_name'] = df['class_ID'].map(lambda x: get_class(x))\n",
    "    return df\n",
    "\n",
    "def get_class(class_ID):\n",
    "    return list(CLASSES_MAP.keys())[list(CLASSES_MAP.values()).index(class_ID)]"
   ]
  },
  {
   "cell_type": "code",
   "execution_count": 11,
   "metadata": {
    "scrolled": true
   },
   "outputs": [
    {
     "name": "stdout",
     "output_type": "stream",
     "text": [
      "The most frequent shape is (128, 87)\n",
      "After applying clean_shape, shape of df = (13, 7)\n",
      "Columns of df are Index(['file_path', 'file_name', 'class_name', 'class_ID', 'y', 'sr',\n",
      "       'spectrogram', 'shape'],\n",
      "      dtype='object')\n",
      "\n",
      "After applying over_sample, shape of df = (28, 3)\n",
      "Columns of df are Index(['file_path', 'file_name', 'class_name', 'class_ID', 'y', 'sr',\n",
      "       'spectrogram'],\n",
      "      dtype='object')\n",
      "\n",
      "After applying process, shape of df = (28, 3)\n",
      "Columns of df are Index(['file_path', 'file_name', 'class_name', 'class_ID', 'y', 'sr',\n",
      "       'spectrogram', 'shape'],\n",
      "      dtype='object')\n",
      "\n"
     ]
    }
   ],
   "source": [
    "data_df_processed = process(data_df_raw)"
   ]
  },
  {
   "cell_type": "code",
   "execution_count": 17,
   "metadata": {},
   "outputs": [
    {
     "name": "stdout",
     "output_type": "stream",
     "text": [
      "After applying get_count, shape of df = (7,)\n",
      "Columns of df are Index(['spectrogram', 'class_ID', 'class_name'], dtype='object')\n",
      "\n"
     ]
    },
    {
     "data": {
      "text/plain": [
       "am    4\n",
       "d     4\n",
       "c     4\n",
       "f     4\n",
       "g     4\n",
       "em    4\n",
       "dm    4\n",
       "Name: class_name, dtype: int64"
      ]
     },
     "execution_count": 17,
     "metadata": {},
     "output_type": "execute_result"
    }
   ],
   "source": [
    "get_count(data_df_processed)"
   ]
  },
  {
   "cell_type": "code",
   "execution_count": 18,
   "metadata": {
    "scrolled": true
   },
   "outputs": [],
   "source": [
    "data_df_processed.to_csv(os.path.join(METADATA_DIR_PROCESSED, 'data_piano.csv'), index=False)\n",
    "data_df_processed.to_pickle(os.path.join(METADATA_DIR_PROCESSED, 'data_piano.pkl'))"
   ]
  },
  {
   "cell_type": "code",
   "execution_count": 13,
   "metadata": {
    "scrolled": true
   },
   "outputs": [
    {
     "data": {
      "text/html": [
       "<div>\n",
       "<style scoped>\n",
       "    .dataframe tbody tr th:only-of-type {\n",
       "        vertical-align: middle;\n",
       "    }\n",
       "\n",
       "    .dataframe tbody tr th {\n",
       "        vertical-align: top;\n",
       "    }\n",
       "\n",
       "    .dataframe thead th {\n",
       "        text-align: right;\n",
       "    }\n",
       "</style>\n",
       "<table border=\"1\" class=\"dataframe\">\n",
       "  <thead>\n",
       "    <tr style=\"text-align: right;\">\n",
       "      <th></th>\n",
       "      <th>spectrogram</th>\n",
       "      <th>class_ID</th>\n",
       "      <th>class_name</th>\n",
       "    </tr>\n",
       "  </thead>\n",
       "  <tbody>\n",
       "    <tr>\n",
       "      <th>0</th>\n",
       "      <td>[[0.00012578518248171133, 0.000171102419808094...</td>\n",
       "      <td>7</td>\n",
       "      <td>em</td>\n",
       "    </tr>\n",
       "    <tr>\n",
       "      <th>1</th>\n",
       "      <td>[[0.00011310513755979318, 0.000118863539866071...</td>\n",
       "      <td>8</td>\n",
       "      <td>f</td>\n",
       "    </tr>\n",
       "    <tr>\n",
       "      <th>2</th>\n",
       "      <td>[[7.582858083100617e-06, 1.8382775001556855e-0...</td>\n",
       "      <td>4</td>\n",
       "      <td>d</td>\n",
       "    </tr>\n",
       "    <tr>\n",
       "      <th>3</th>\n",
       "      <td>[[0.0004814396252588957, 0.0004675163938837124...</td>\n",
       "      <td>9</td>\n",
       "      <td>g</td>\n",
       "    </tr>\n",
       "    <tr>\n",
       "      <th>4</th>\n",
       "      <td>[[5.486135785129591e-05, 0.0001182717062765817...</td>\n",
       "      <td>9</td>\n",
       "      <td>g</td>\n",
       "    </tr>\n",
       "  </tbody>\n",
       "</table>\n",
       "</div>"
      ],
      "text/plain": [
       "                                         spectrogram  class_ID class_name\n",
       "0  [[0.00012578518248171133, 0.000171102419808094...         7         em\n",
       "1  [[0.00011310513755979318, 0.000118863539866071...         8          f\n",
       "2  [[7.582858083100617e-06, 1.8382775001556855e-0...         4          d\n",
       "3  [[0.0004814396252588957, 0.0004675163938837124...         9          g\n",
       "4  [[5.486135785129591e-05, 0.0001182717062765817...         9          g"
      ]
     },
     "execution_count": 13,
     "metadata": {},
     "output_type": "execute_result"
    }
   ],
   "source": [
    "data_df_processed.head()"
   ]
  },
  {
   "cell_type": "markdown",
   "metadata": {},
   "source": [
    "### Examples of Siren spectrograms"
   ]
  },
  {
   "cell_type": "code",
   "execution_count": 18,
   "metadata": {},
   "outputs": [
    {
     "data": {
      "text/plain": [
       "(128, 86)"
      ]
     },
     "execution_count": 18,
     "metadata": {},
     "output_type": "execute_result"
    }
   ],
   "source": [
    "y, sr = librosa.load(DATA_DIR_GUITAR+data_df_raw['file_path'].iloc[0],duration=2)\n",
    "ps = librosa.feature.melspectrogram(y=y, sr=sr)\n",
    "ps.shape"
   ]
  },
  {
   "cell_type": "code",
   "execution_count": 19,
   "metadata": {},
   "outputs": [
    {
     "data": {
      "text/plain": [
       "<AxesSubplot:xlabel='Time', ylabel='Hz'>"
      ]
     },
     "execution_count": 19,
     "metadata": {},
     "output_type": "execute_result"
    },
    {
     "data": {
      "image/png": "[encoded data removed]",
      "text/plain": [
       "<Figure size 432x288 with 1 Axes>"
      ]
     },
     "metadata": {
      "needs_background": "light"
     },
     "output_type": "display_data"
    }
   ],
   "source": [
    "librosa.display.specshow(ps, y_axis='mel', x_axis='time')"
   ]
  },
  {
   "cell_type": "code",
   "execution_count": 20,
   "metadata": {},
   "outputs": [
    {
     "data": {
      "text/plain": [
       "(128, 55)"
      ]
     },
     "execution_count": 20,
     "metadata": {},
     "output_type": "execute_result"
    }
   ],
   "source": [
    "y, sr = librosa.load(DATA_DIR_GUITAR+data_df_raw['file_path'].iloc[201],duration=2)\n",
    "ps = librosa.feature.melspectrogram(y=y, sr=sr,)\n",
    "ps.shape\n"
   ]
  },
  {
   "cell_type": "code",
   "execution_count": 21,
   "metadata": {},
   "outputs": [
    {
     "data": {
      "text/plain": [
       "<AxesSubplot:xlabel='Time', ylabel='Hz'>"
      ]
     },
     "execution_count": 21,
     "metadata": {},
     "output_type": "execute_result"
    },
    {
     "data": {
      "image/png": "[encoded data removed]",
      "text/plain": [
       "<Figure size 432x288 with 1 Axes>"
      ]
     },
     "metadata": {
      "needs_background": "light"
     },
     "output_type": "display_data"
    }
   ],
   "source": [
    "librosa.display.specshow(ps, y_axis='mel', x_axis='time')"
   ]
  },
  {
   "cell_type": "code",
   "execution_count": 22,
   "metadata": {},
   "outputs": [
    {
     "data": {
      "text/plain": [
       "(128, 67)"
      ]
     },
     "execution_count": 22,
     "metadata": {},
     "output_type": "execute_result"
    }
   ],
   "source": [
    "y, sr = librosa.load(DATA_DIR_GUITAR+data_df_raw['file_path'].iloc[401],duration=2)\n",
    "ps = librosa.feature.melspectrogram(y=y, sr=sr,)\n",
    "ps.shape\n"
   ]
  },
  {
   "cell_type": "code",
   "execution_count": 23,
   "metadata": {},
   "outputs": [
    {
     "data": {
      "text/plain": [
       "<AxesSubplot:xlabel='Time', ylabel='Hz'>"
      ]
     },
     "execution_count": 23,
     "metadata": {},
     "output_type": "execute_result"
    },
    {
     "data": {
      "image/png": "[encoded data removed]",
      "text/plain": [
       "<Figure size 432x288 with 1 Axes>"
      ]
     },
     "metadata": {
      "needs_background": "light"
     },
     "output_type": "display_data"
    }
   ],
   "source": [
    "librosa.display.specshow(ps, y_axis='mel', x_axis='time')"
   ]
  },
  {
   "cell_type": "code",
   "execution_count": 24,
   "metadata": {},
   "outputs": [
    {
     "data": {
      "text/plain": [
       "(128, 62)"
      ]
     },
     "execution_count": 24,
     "metadata": {},
     "output_type": "execute_result"
    }
   ],
   "source": [
    "y, sr = librosa.load(DATA_DIR_GUITAR+data_df_raw['file_path'].iloc[801],duration=2)\n",
    "ps = librosa.feature.melspectrogram(y=y, sr=sr,)\n",
    "ps.shape\n"
   ]
  },
  {
   "cell_type": "code",
   "execution_count": 25,
   "metadata": {},
   "outputs": [
    {
     "data": {
      "text/plain": [
       "<AxesSubplot:xlabel='Time', ylabel='Hz'>"
      ]
     },
     "execution_count": 25,
     "metadata": {},
     "output_type": "execute_result"
    },
    {
     "data": {
      "image/png": "[encoded data removed]",
      "text/plain": [
       "<Figure size 432x288 with 1 Axes>"
      ]
     },
     "metadata": {
      "needs_background": "light"
     },
     "output_type": "display_data"
    }
   ],
   "source": [
    "librosa.display.specshow(ps, y_axis='mel', x_axis='time')"
   ]
  },
  {
   "cell_type": "markdown",
   "metadata": {},
   "source": [
    "## Training"
   ]
  },
  {
   "cell_type": "markdown",
   "metadata": {},
   "source": [
    "### Load processed data"
   ]
  },
  {
   "cell_type": "code",
   "execution_count": 6,
   "metadata": {},
   "outputs": [],
   "source": [
    "dataset = pd.read_pickle(os.path.join(METADATA_DIR_PROCESSED, 'data.pkl'))"
   ]
  },
  {
   "cell_type": "code",
   "execution_count": 13,
   "metadata": {},
   "outputs": [
    {
     "name": "stdout",
     "output_type": "stream",
     "text": [
      "Number of samples:  28\n"
     ]
    }
   ],
   "source": [
    "print(\"Number of samples: \", len(dataset))"
   ]
  },
  {
   "cell_type": "code",
   "execution_count": 22,
   "metadata": {},
   "outputs": [
    {
     "data": {
      "text/plain": [
       "spectrogram    [[0.00012578518248171133, 0.000171102419808094...\n",
       "class_ID                                                       7\n",
       "class_name                                                    em\n",
       "Name: 0, dtype: object"
      ]
     },
     "execution_count": 22,
     "metadata": {},
     "output_type": "execute_result"
    }
   ],
   "source": [
    "dataset.iloc[0]"
   ]
  },
  {
   "cell_type": "code",
   "execution_count": 18,
   "metadata": {},
   "outputs": [
    {
     "data": {
      "text/plain": [
       "(128, 87)"
      ]
     },
     "execution_count": 18,
     "metadata": {},
     "output_type": "execute_result"
    }
   ],
   "source": [
    "dataset['spectrogram'].iloc[0].shape"
   ]
  },
  {
   "cell_type": "markdown",
   "metadata": {},
   "source": [
    "### Splitting into train and test"
   ]
  },
  {
   "cell_type": "code",
   "execution_count": 7,
   "metadata": {},
   "outputs": [
    {
     "name": "stdout",
     "output_type": "stream",
     "text": [
      "Number of training samples is 22\n",
      "Number of testing samples is 6\n",
      "                                          spectrogram  class_ID class_name\n",
      "9   [[0.0003063684174560551, 0.0003068112751024809...         3          c\n",
      "25  [[0.00011310513755979318, 0.000118863539866071...         8          f\n",
      "8   [[0.000115866739310853, 9.211821605442563e-05,...         1         am\n",
      "21  [[0.00012578518248171133, 0.000171102419808094...         7         em\n",
      "0   [[0.00012578518248171133, 0.000171102419808094...         7         em\n",
      "12  [[0.0003193784823874194, 0.0002055453657872741...         3          c\n",
      "17  [[7.582858083100617e-06, 1.8382775001556855e-0...         4          d\n",
      "22  [[0.00012578518248171133, 0.000171102419808094...         7         em\n",
      "11  [[1.0692516216375007e-05, 7.939112902153468e-0...         3          c\n",
      "13  [[0.000115866739310853, 9.211821605442563e-05,...         1         am\n",
      "                                          spectrogram  class_ID class_name\n",
      "6   [[0.0002605750605048622, 0.0003518248208546959...         5         dm\n",
      "7   [[7.710649287595419e-05, 3.860329658849771e-05...         1         am\n",
      "10  [[0.00023319479653677324, 0.000198659740522765...         3          c\n",
      "14  [[7.710649287595419e-05, 3.860329658849771e-05...         1         am\n",
      "19  [[0.0002605750605048622, 0.0003518248208546959...         5         dm\n",
      "20  [[0.00012578518248171133, 0.000171102419808094...         7         em\n"
     ]
    }
   ],
   "source": [
    "np.random.seed(42)\n",
    "sample = np.random.choice(dataset.index, size=int(len(dataset)*0.8), replace=False)\n",
    "train_data, test_data = dataset.iloc[sample], dataset.drop(sample)\n",
    "\n",
    "\n",
    "print(\"Number of training samples is\", len(train_data))\n",
    "print(\"Number of testing samples is\", len(test_data))\n",
    "print(train_data[:10])\n",
    "print(test_data[:10])"
   ]
  },
  {
   "cell_type": "code",
   "execution_count": 20,
   "metadata": {},
   "outputs": [
    {
     "data": {
      "text/plain": [
       "array([[5.65288977e-04, 5.36270516e-04, 6.26447347e-04, ...,\n",
       "        1.43405886e-03, 6.05617887e-03, 6.47266243e-03],\n",
       "       [6.46477881e-06, 2.36362204e-04, 2.60513446e-04, ...,\n",
       "        6.51828727e-05, 6.49995746e-05, 1.55495322e-04],\n",
       "       [6.25565286e-05, 4.44503197e-03, 4.20235398e-02, ...,\n",
       "        2.61672879e-04, 3.28281934e-04, 3.03510980e-04],\n",
       "       ...,\n",
       "       [2.62053156e-08, 1.10005528e-06, 2.32178720e-06, ...,\n",
       "        3.78386649e-08, 5.61499221e-08, 2.41081409e-08],\n",
       "       [1.50246137e-08, 5.73511158e-07, 1.23312087e-06, ...,\n",
       "        1.35735864e-08, 2.31483559e-08, 1.84736541e-08],\n",
       "       [6.86918613e-09, 1.07577731e-08, 1.82660494e-08, ...,\n",
       "        7.04329017e-10, 1.51185975e-09, 2.04512156e-09]])"
      ]
     },
     "execution_count": 20,
     "metadata": {},
     "output_type": "execute_result"
    }
   ],
   "source": [
    "train_data['spectrogram'].iloc[0]"
   ]
  },
  {
   "cell_type": "code",
   "execution_count": 21,
   "metadata": {},
   "outputs": [
    {
     "name": "stdout",
     "output_type": "stream",
     "text": [
      "spectrogram    [[0.0005652889772970222, 0.0005362705158330562...\n",
      "class_ID                                                       0\n",
      "class_name                                                     a\n",
      "Name: 174, dtype: object\n",
      "(128, 87)\n",
      "0.0005362705158330562\n",
      "0\n"
     ]
    }
   ],
   "source": [
    "print(train_data.iloc[0])\n",
    "print(train_data.iloc[0][0].shape)   #shape of input image\n",
    "print(train_data.iloc[0][0][0][1])\n",
    "print(train_data.iloc[0][1])    #output class id"
   ]
  },
  {
   "cell_type": "markdown",
   "metadata": {},
   "source": [
    "## Splitting the data into features (X) and targets (y)\n",
    "Now, as a final step before the training, we'll split the data into features (X) and targets (y)."
   ]
  },
  {
   "cell_type": "code",
   "execution_count": 8,
   "metadata": {},
   "outputs": [
    {
     "name": "stdout",
     "output_type": "stream",
     "text": [
      "6     [[0.0002605750605048622, 0.0003518248208546959...\n",
      "7     [[7.710649287595419e-05, 3.860329658849771e-05...\n",
      "10    [[0.00023319479653677324, 0.000198659740522765...\n",
      "14    [[7.710649287595419e-05, 3.860329658849771e-05...\n",
      "19    [[0.0002605750605048622, 0.0003518248208546959...\n",
      "20    [[0.00012578518248171133, 0.000171102419808094...\n",
      "Name: spectrogram, dtype: object\n",
      "6     5\n",
      "7     1\n",
      "10    3\n",
      "14    1\n",
      "19    5\n",
      "20    7\n",
      "Name: class_ID, dtype: int64\n"
     ]
    }
   ],
   "source": [
    "X_train = train_data['spectrogram']\n",
    "y_train = train_data['class_ID']\n",
    "X_test = test_data['spectrogram']\n",
    "y_test = test_data['class_ID']\n",
    "\n",
    "print(X_test[:10])\n",
    "print(y_test[:10])"
   ]
  },
  {
   "cell_type": "markdown",
   "metadata": {},
   "source": [
    "### Reshape for CNN input"
   ]
  },
  {
   "cell_type": "code",
   "execution_count": 9,
   "metadata": {},
   "outputs": [],
   "source": [
    "X_train = np.array([x.reshape( (128, 87, 1) ) for x in X_train])\n",
    "X_test = np.array([x.reshape( (128, 87, 1) ) for x in X_test])"
   ]
  },
  {
   "cell_type": "code",
   "execution_count": 24,
   "metadata": {},
   "outputs": [
    {
     "name": "stdout",
     "output_type": "stream",
     "text": [
      "(128, 87, 1)\n",
      "7\n"
     ]
    }
   ],
   "source": [
    "print(X_train[0].shape)\n",
    "print(y_train[0])"
   ]
  },
  {
   "cell_type": "markdown",
   "metadata": {},
   "source": [
    "### One-Hot encoding for classes"
   ]
  },
  {
   "cell_type": "code",
   "execution_count": 10,
   "metadata": {},
   "outputs": [],
   "source": [
    "y_train = np.array(keras.utils.to_categorical(y_train, 10))\n",
    "y_test_values=y_test\n",
    "y_test = np.array(keras.utils.to_categorical(y_test, 10))"
   ]
  },
  {
   "cell_type": "code",
   "execution_count": 26,
   "metadata": {},
   "outputs": [
    {
     "name": "stdout",
     "output_type": "stream",
     "text": [
      "[1. 0. 0. 0. 0. 0. 0. 0. 0. 0.]\n"
     ]
    }
   ],
   "source": [
    "print(y_train[0])"
   ]
  },
  {
   "cell_type": "markdown",
   "metadata": {},
   "source": [
    "### Model"
   ]
  },
  {
   "cell_type": "code",
   "execution_count": 11,
   "metadata": {},
   "outputs": [],
   "source": [
    "model = Sequential()\n",
    "input_shape=(128, 87, 1)\n",
    "\n",
    "model.add(Conv2D(24, (5, 5), strides=(1, 1), input_shape=input_shape))\n",
    "model.add(MaxPooling2D((4, 2), strides=(4, 2)))\n",
    "model.add(Activation('relu'))\n",
    "\n",
    "model.add(Conv2D(48, (5, 5), padding=\"valid\"))\n",
    "model.add(MaxPooling2D((4, 2), strides=(4, 2)))\n",
    "model.add(Activation('relu'))\n",
    "\n",
    "model.add(Conv2D(48, (5, 5), padding=\"valid\"))\n",
    "model.add(Activation('relu'))\n",
    "\n",
    "model.add(Flatten())\n",
    "model.add(Dropout(rate=0.5))\n",
    "\n",
    "model.add(Dense(64))\n",
    "model.add(Activation('relu'))\n",
    "model.add(Dropout(rate=0.5))\n",
    "\n",
    "model.add(Dense(10))\n",
    "model.add(Activation('softmax'))"
   ]
  },
  {
   "cell_type": "code",
   "execution_count": 11,
   "metadata": {},
   "outputs": [
    {
     "name": "stdout",
     "output_type": "stream",
     "text": [
      "_________________________________________________________________\n",
      "Layer (type)                 Output Shape              Param #   \n",
      "=================================================================\n",
      "conv2d_1 (Conv2D)            (None, 124, 83, 24)       624       \n",
      "_________________________________________________________________\n",
      "max_pooling2d_1 (MaxPooling2 (None, 31, 41, 24)        0         \n",
      "_________________________________________________________________\n",
      "activation_1 (Activation)    (None, 31, 41, 24)        0         \n",
      "_________________________________________________________________\n",
      "conv2d_2 (Conv2D)            (None, 27, 37, 48)        28848     \n",
      "_________________________________________________________________\n",
      "max_pooling2d_2 (MaxPooling2 (None, 6, 18, 48)         0         \n",
      "_________________________________________________________________\n",
      "activation_2 (Activation)    (None, 6, 18, 48)         0         \n",
      "_________________________________________________________________\n",
      "conv2d_3 (Conv2D)            (None, 2, 14, 48)         57648     \n",
      "_________________________________________________________________\n",
      "activation_3 (Activation)    (None, 2, 14, 48)         0         \n",
      "_________________________________________________________________\n",
      "flatten_1 (Flatten)          (None, 1344)              0         \n",
      "_________________________________________________________________\n",
      "dropout_1 (Dropout)          (None, 1344)              0         \n",
      "_________________________________________________________________\n",
      "dense_1 (Dense)              (None, 64)                86080     \n",
      "_________________________________________________________________\n",
      "activation_4 (Activation)    (None, 64)                0         \n",
      "_________________________________________________________________\n",
      "dropout_2 (Dropout)          (None, 64)                0         \n",
      "_________________________________________________________________\n",
      "dense_2 (Dense)              (None, 10)                650       \n",
      "_________________________________________________________________\n",
      "activation_5 (Activation)    (None, 10)                0         \n",
      "=================================================================\n",
      "Total params: 173,850\n",
      "Trainable params: 173,850\n",
      "Non-trainable params: 0\n",
      "_________________________________________________________________\n"
     ]
    }
   ],
   "source": [
    "model.summary()\n"
   ]
  },
  {
   "cell_type": "code",
   "execution_count": 12,
   "metadata": {},
   "outputs": [],
   "source": [
    "def precision(y_true, y_pred):\n",
    "    '''Calculates the precision, a metric for multi-label classification of\n",
    "    how many selected items are relevant.\n",
    "    '''\n",
    "    true_positives = K.sum(K.round(K.clip(y_true * y_pred, 0, 1)))\n",
    "    predicted_positives = K.sum(K.round(K.clip(y_pred, 0, 1)))\n",
    "    precision = true_positives / (predicted_positives + K.epsilon())\n",
    "    return precision\n",
    "\n",
    "\n",
    "def recall(y_true, y_pred):\n",
    "    '''Calculates the recall, a metric for multi-label classification of\n",
    "    how many relevant items are selected.\n",
    "    '''\n",
    "    true_positives = K.sum(K.round(K.clip(y_true * y_pred, 0, 1)))\n",
    "    possible_positives = K.sum(K.round(K.clip(y_true, 0, 1)))\n",
    "    recall = true_positives / (possible_positives + K.epsilon())\n",
    "    return recall\n",
    "\n",
    "\n",
    "def fbeta_score(y_true, y_pred, beta=1):\n",
    "    '''Calculates the F score, the weighted harmonic mean of precision and recall.\n",
    "    This is useful for multi-label classification, where input samples can be\n",
    "    classified as sets of labels. By only using accuracy (precision) a model\n",
    "    would achieve a perfect score by simply assigning every class to every\n",
    "    input. In order to avoid this, a metric should penalize incorrect class\n",
    "    assignments as well (recall). The F-beta score (ranged from 0.0 to 1.0)\n",
    "    computes this, as a weighted mean of the proportion of correct class\n",
    "    assignments vs. the proportion of incorrect class assignments.\n",
    "    With beta = 1, this is equivalent to a F-measure. With beta < 1, assigning\n",
    "    correct classes becomes more important, and with beta > 1 the metric is\n",
    "    instead weighted towards penalizing incorrect class assignments.\n",
    "    '''\n",
    "    if beta < 0:\n",
    "        raise ValueError('The lowest choosable beta is zero (only precision).')\n",
    "        \n",
    "    # If there are no true positives, fix the F score at 0 like sklearn.\n",
    "    if K.sum(K.round(K.clip(y_true, 0, 1))) == 0:\n",
    "        return 0\n",
    "\n",
    "    p = precision(y_true, y_pred)\n",
    "    r = recall(y_true, y_pred)\n",
    "    bb = beta ** 2\n",
    "    fbeta_score = (1 + bb) * (p * r) / (bb * p + r + K.epsilon())\n",
    "    return fbeta_score\n",
    "\n",
    "\n",
    "def fmeasure(y_true, y_pred):\n",
    "    '''Calculates the f-measure, the harmonic mean of precision and recall.\n",
    "    '''\n",
    "    return fbeta_score(y_true, y_pred, beta=1)"
   ]
  },
  {
   "cell_type": "code",
   "execution_count": 13,
   "metadata": {},
   "outputs": [
    {
     "name": "stdout",
     "output_type": "stream",
     "text": [
      "Train on 22 samples, validate on 6 samples\n",
      "Epoch 1/70\n"
     ]
    }
   ],
   "source": [
    "model.compile(\n",
    "\toptimizer=\"Adam\",\n",
    "\tloss=\"categorical_crossentropy\",\n",
    "\tmetrics=['accuracy', precision, recall,fmeasure])\n",
    "\n",
    "model.fit(\n",
    "\tx=X_train, \n",
    "\ty=y_train,\n",
    "    epochs=70,\n",
    "    batch_size=20,\n",
    "    validation_data= (X_test, y_test))\n",
    "\n",
    "score = model.evaluate(\n",
    "\tx=X_test,\n",
    "\ty=y_test)\n",
    "\n",
    "print('Test loss:', score[0])\n",
    "print('Test accuracy:', score[1])\n",
    "print('Test precision:', score[2])\n",
    "print('Test recall:', score[3])\n",
    "print('Test f1-score:', score[4])\n"
   ]
  },
  {
   "cell_type": "code",
   "execution_count": 31,
   "metadata": {},
   "outputs": [
    {
     "data": {
      "text/plain": [
       "(230,)"
      ]
     },
     "execution_count": 31,
     "metadata": {},
     "output_type": "execute_result"
    }
   ],
   "source": [
    "y_test_values.shape"
   ]
  },
  {
   "cell_type": "code",
   "execution_count": 32,
   "metadata": {},
   "outputs": [],
   "source": [
    "predictions = model.predict_classes(X_test)"
   ]
  },
  {
   "cell_type": "code",
   "execution_count": 33,
   "metadata": {},
   "outputs": [
    {
     "data": {
      "text/plain": [
       "array([[24,  0,  0,  0,  0,  0,  0,  0,  0,  0],\n",
       "       [ 0, 27,  0,  1,  0,  0,  0,  0,  0,  0],\n",
       "       [ 0,  0, 26,  0,  0,  0,  0,  0,  0,  0],\n",
       "       [ 0,  0,  0, 21,  0,  0,  0,  0,  0,  0],\n",
       "       [ 0,  0,  0,  1, 16,  3,  0,  0,  0,  0],\n",
       "       [ 0,  0,  0,  0,  3,  8,  0,  0,  0,  0],\n",
       "       [ 0,  1,  0,  0,  0,  0, 19,  2,  0,  0],\n",
       "       [ 0,  0,  0,  0,  0,  0,  0, 27,  0,  1],\n",
       "       [ 0,  0,  0,  1,  0,  0,  0,  0, 19,  0],\n",
       "       [ 0,  0,  0,  0,  0,  0,  0,  0,  0, 30]])"
      ]
     },
     "execution_count": 33,
     "metadata": {},
     "output_type": "execute_result"
    }
   ],
   "source": [
    "conf_mat=confusion_matrix(y_test_values, predictions, labels=range(10))\n",
    "conf_mat"
   ]
  },
  {
   "cell_type": "markdown",
   "metadata": {},
   "source": [
    "### Save model to disk"
   ]
  },
  {
   "cell_type": "markdown",
   "metadata": {},
   "source": [
    "### serialize model to JSON"
   ]
  },
  {
   "cell_type": "code",
   "execution_count": 34,
   "metadata": {},
   "outputs": [],
   "source": [
    "model_json = model.to_json()\n",
    "with open(MODEL_JSON, \"w\") as json_file:\n",
    "    json_file.write(model_json)"
   ]
  },
  {
   "cell_type": "markdown",
   "metadata": {},
   "source": [
    "### serialize weights to HDF5"
   ]
  },
  {
   "cell_type": "code",
   "execution_count": 35,
   "metadata": {},
   "outputs": [
    {
     "name": "stdout",
     "output_type": "stream",
     "text": [
      "Saved model to disk\n"
     ]
    }
   ],
   "source": [
    "model.save_weights(MODEL_H5)\n",
    "print(\"Saved model to disk\")"
   ]
  },
  {
   "cell_type": "markdown",
   "metadata": {},
   "source": [
    "## Data Augmentation"
   ]
  },
  {
   "cell_type": "code",
   "execution_count": 1,
   "metadata": {},
   "outputs": [],
   "source": [
    "def get_augmentation_count(df):\n",
    "    return df['augmentation'].value_counts()"
   ]
  },
  {
   "cell_type": "code",
   "execution_count": 219,
   "metadata": {},
   "outputs": [],
   "source": [
    "data_df_raw = pd.read_pickle(os.path.join(METADATA_DIR_RAW, 'data.pkl'))"
   ]
  },
  {
   "cell_type": "markdown",
   "metadata": {},
   "source": [
    "### 1. Vary Time"
   ]
  },
  {
   "cell_type": "code",
   "execution_count": null,
   "metadata": {},
   "outputs": [],
   "source": [
    "data_df_time_inc = augment_data(data_df_raw.copy(), kind='time', rate=1.07)\n",
    "                    \n",
    "\n",
    "data_df_time_dec = augment_data(data_df_raw.copy(), kind='time', rate=0.81)"
   ]
  },
  {
   "cell_type": "markdown",
   "metadata": {},
   "source": [
    "### 2. Vary pitch"
   ]
  },
  {
   "cell_type": "code",
   "execution_count": 239,
   "metadata": {},
   "outputs": [
    {
     "name": "stdout",
     "output_type": "stream",
     "text": [
      "After applying augment_data, shape of df = (4000, 8)\n",
      "Columns of df are Index(['file_path', 'file_name', 'class_name', 'class_ID', 'y', 'sr',\n",
      "       'spectrogram', 'augmentation'],\n",
      "      dtype='object')\n",
      "\n",
      "After applying augment_data, shape of df = (4000, 8)\n",
      "Columns of df are Index(['file_path', 'file_name', 'class_name', 'class_ID', 'y', 'sr',\n",
      "       'spectrogram', 'augmentation'],\n",
      "      dtype='object')\n",
      "\n"
     ]
    }
   ],
   "source": [
    "data_df_shift_20 = augment_data(data_df_raw.copy(), kind='pitch', rate=2.5)\n",
    "\n",
    "data_df_shift_25 = augment_data(data_df_raw.copy(), kind='pitch', rate=2)"
   ]
  },
  {
   "cell_type": "markdown",
   "metadata": {},
   "source": [
    "### Create Augmented Metada"
   ]
  },
  {
   "cell_type": "code",
   "execution_count": 264,
   "metadata": {},
   "outputs": [],
   "source": [
    "data_df_raw['augmentation'] = 'None'\n",
    "data_df_augmented_raw = pd.concat([data_df_raw, data_df_time_inc, data_df_time_dec, data_df_shift_20, data_df_shift_25], axis=0)"
   ]
  },
  {
   "cell_type": "code",
   "execution_count": 284,
   "metadata": {},
   "outputs": [
    {
     "name": "stdout",
     "output_type": "stream",
     "text": [
      "After applying add_shape, shape of df = (16000, 9)\n",
      "Columns of df are Index(['file_path', 'file_name', 'class_name', 'class_ID', 'y', 'sr',\n",
      "       'spectrogram', 'augmentation', 'shape'],\n",
      "      dtype='object')\n",
      "\n"
     ]
    }
   ],
   "source": [
    "data_df_augmented_raw = data_df_augmented_raw.pipe(add_shape)"
   ]
  },
  {
   "cell_type": "code",
   "execution_count": 312,
   "metadata": {},
   "outputs": [
    {
     "name": "stdout",
     "output_type": "stream",
     "text": [
      "After applying get_augmentation_count, shape of df = (5,)\n",
      "Columns of df are Index(['file_path', 'file_name', 'class_name', 'class_ID', 'y', 'sr',\n",
      "       'spectrogram', 'augmentation', 'shape'],\n",
      "      dtype='object')\n",
      "\n",
      "None         8000\n",
      "pitch_250    2000\n",
      "pitch_200    2000\n",
      "speed_81     2000\n",
      "speed_107    2000\n",
      "Name: augmentation, dtype: int64\n"
     ]
    }
   ],
   "source": [
    "print(get_augmentation_count(data_df_augmented_raw))"
   ]
  },
  {
   "cell_type": "code",
   "execution_count": 286,
   "metadata": {},
   "outputs": [
    {
     "name": "stdout",
     "output_type": "stream",
     "text": [
      "After applying get_count, shape of df = (10,)\n",
      "Columns of df are Index(['file_path', 'file_name', 'class_name', 'class_ID', 'y', 'sr',\n",
      "       'spectrogram', 'augmentation', 'shape'],\n",
      "      dtype='object')\n",
      "\n",
      "e     1600\n",
      "d     1600\n",
      "a     1600\n",
      "g     1600\n",
      "am    1600\n",
      "c     1600\n",
      "bm    1600\n",
      "f     1600\n",
      "dm    1600\n",
      "em    1600\n",
      "Name: class_name, dtype: int64\n"
     ]
    }
   ],
   "source": [
    "print(get_count(data_df_augmented_raw))"
   ]
  },
  {
   "cell_type": "code",
   "execution_count": 282,
   "metadata": {},
   "outputs": [
    {
     "data": {
      "text/html": [
       "<div>\n",
       "<style scoped>\n",
       "    .dataframe tbody tr th:only-of-type {\n",
       "        vertical-align: middle;\n",
       "    }\n",
       "\n",
       "    .dataframe tbody tr th {\n",
       "        vertical-align: top;\n",
       "    }\n",
       "\n",
       "    .dataframe thead th {\n",
       "        text-align: right;\n",
       "    }\n",
       "</style>\n",
       "<table border=\"1\" class=\"dataframe\">\n",
       "  <thead>\n",
       "    <tr style=\"text-align: right;\">\n",
       "      <th></th>\n",
       "      <th>file_path</th>\n",
       "      <th>file_name</th>\n",
       "      <th>class_name</th>\n",
       "      <th>class_ID</th>\n",
       "      <th>y</th>\n",
       "      <th>sr</th>\n",
       "      <th>spectrogram</th>\n",
       "      <th>augmentation</th>\n",
       "      <th>shape</th>\n",
       "    </tr>\n",
       "  </thead>\n",
       "  <tbody>\n",
       "    <tr>\n",
       "      <th>0</th>\n",
       "      <td>g/speed_107/g102.wav</td>\n",
       "      <td>g102.wav</td>\n",
       "      <td>g</td>\n",
       "      <td>9</td>\n",
       "      <td>[-0.07182093, -0.10744891, -0.06559521, -0.086...</td>\n",
       "      <td>22050</td>\n",
       "      <td>[[0.009544356, 0.18455605, 1.1824054, 0.513804...</td>\n",
       "      <td>speed_107</td>\n",
       "      <td>(128, 71)</td>\n",
       "    </tr>\n",
       "    <tr>\n",
       "      <th>1</th>\n",
       "      <td>g/speed_107/g194.wav</td>\n",
       "      <td>g194.wav</td>\n",
       "      <td>g</td>\n",
       "      <td>9</td>\n",
       "      <td>[0.0042471434, 0.0057702884, 0.005924746, 0.00...</td>\n",
       "      <td>22050</td>\n",
       "      <td>[[0.0091888, 0.0096358005, 0.0052495273, 0.006...</td>\n",
       "      <td>speed_107</td>\n",
       "      <td>(128, 72)</td>\n",
       "    </tr>\n",
       "    <tr>\n",
       "      <th>2</th>\n",
       "      <td>g/speed_107/g144.wav</td>\n",
       "      <td>g144.wav</td>\n",
       "      <td>g</td>\n",
       "      <td>9</td>\n",
       "      <td>[-1.4150559e-05, 0.0011950773, 0.0038850766, 0...</td>\n",
       "      <td>22050</td>\n",
       "      <td>[[0.02301405, 0.013076712, 0.005735046, 0.0057...</td>\n",
       "      <td>speed_107</td>\n",
       "      <td>(128, 81)</td>\n",
       "    </tr>\n",
       "    <tr>\n",
       "      <th>3</th>\n",
       "      <td>g/speed_107/g160.wav</td>\n",
       "      <td>g160.wav</td>\n",
       "      <td>g</td>\n",
       "      <td>9</td>\n",
       "      <td>[-0.00116409, -0.00061268755, -0.00042036132, ...</td>\n",
       "      <td>22050</td>\n",
       "      <td>[[0.0030068015, 0.008565176, 0.016034044, 0.00...</td>\n",
       "      <td>speed_107</td>\n",
       "      <td>(128, 81)</td>\n",
       "    </tr>\n",
       "    <tr>\n",
       "      <th>4</th>\n",
       "      <td>g/speed_107/g129.wav</td>\n",
       "      <td>g129.wav</td>\n",
       "      <td>g</td>\n",
       "      <td>9</td>\n",
       "      <td>[-0.005619276, -0.006499503, 0.00010849091, 0....</td>\n",
       "      <td>22050</td>\n",
       "      <td>[[0.011926388, 0.008582427, 0.0061589293, 0.00...</td>\n",
       "      <td>speed_107</td>\n",
       "      <td>(128, 81)</td>\n",
       "    </tr>\n",
       "  </tbody>\n",
       "</table>\n",
       "</div>"
      ],
      "text/plain": [
       "              file_path file_name class_name  class_ID  \\\n",
       "0  g/speed_107/g102.wav  g102.wav          g         9   \n",
       "1  g/speed_107/g194.wav  g194.wav          g         9   \n",
       "2  g/speed_107/g144.wav  g144.wav          g         9   \n",
       "3  g/speed_107/g160.wav  g160.wav          g         9   \n",
       "4  g/speed_107/g129.wav  g129.wav          g         9   \n",
       "\n",
       "                                                   y     sr  \\\n",
       "0  [-0.07182093, -0.10744891, -0.06559521, -0.086...  22050   \n",
       "1  [0.0042471434, 0.0057702884, 0.005924746, 0.00...  22050   \n",
       "2  [-1.4150559e-05, 0.0011950773, 0.0038850766, 0...  22050   \n",
       "3  [-0.00116409, -0.00061268755, -0.00042036132, ...  22050   \n",
       "4  [-0.005619276, -0.006499503, 0.00010849091, 0....  22050   \n",
       "\n",
       "                                         spectrogram augmentation      shape  \n",
       "0  [[0.009544356, 0.18455605, 1.1824054, 0.513804...    speed_107  (128, 71)  \n",
       "1  [[0.0091888, 0.0096358005, 0.0052495273, 0.006...    speed_107  (128, 72)  \n",
       "2  [[0.02301405, 0.013076712, 0.005735046, 0.0057...    speed_107  (128, 81)  \n",
       "3  [[0.0030068015, 0.008565176, 0.016034044, 0.00...    speed_107  (128, 81)  \n",
       "4  [[0.011926388, 0.008582427, 0.0061589293, 0.00...    speed_107  (128, 81)  "
      ]
     },
     "execution_count": 282,
     "metadata": {},
     "output_type": "execute_result"
    }
   ],
   "source": [
    "data_df_augmented_raw.head()"
   ]
  },
  {
   "cell_type": "markdown",
   "metadata": {},
   "source": [
    "### Save augmented raw data"
   ]
  },
  {
   "cell_type": "code",
   "execution_count": 268,
   "metadata": {},
   "outputs": [
    {
     "name": "stdout",
     "output_type": "stream",
     "text": [
      "After applying get_count, shape of df = (10,)\n",
      "Columns of df are Index(['file_path', 'file_name', 'class_name', 'class_ID', 'y', 'sr',\n",
      "       'spectrogram', 'augmentation'],\n",
      "      dtype='object')\n",
      "\n",
      "e     1600\n",
      "d     1600\n",
      "a     1600\n",
      "g     1600\n",
      "am    1600\n",
      "c     1600\n",
      "bm    1600\n",
      "f     1600\n",
      "dm    1600\n",
      "em    1600\n",
      "Name: class_name, dtype: int64\n"
     ]
    }
   ],
   "source": [
    "data_df_augmented_raw.to_csv(os.path.join(METADATA_DIR_AUGMENTED_RAW, 'data.csv'), index=False)\n"
   ]
  },
  {
   "cell_type": "markdown",
   "metadata": {},
   "source": [
    "### Process and save processed augmented data"
   ]
  },
  {
   "cell_type": "code",
   "execution_count": 10,
   "metadata": {},
   "outputs": [],
   "source": [
    "data_df_augmented_raw = pd.read_pickle(os.path.join(METADATA_DIR_AUGMENTED_RAW, 'data.pkl'))"
   ]
  },
  {
   "cell_type": "code",
   "execution_count": 13,
   "metadata": {},
   "outputs": [],
   "source": [
    "# Maintain same shape\n",
    "@df_info\n",
    "def clean_shape(df):\n",
    "    max_shape = df['spectrogram'].map(lambda x: x.shape).value_counts().index[0]\n",
    "    print(f\"The most frequent shape is {max_shape}\")\n",
    "    df['shape'] = df['spectrogram'].map(lambda x: x.shape)\n",
    "    df = df[df['shape']==max_shape]\n",
    "    df.drop(columns='shape', inplace=True)\n",
    "    df.reset_index(drop=True, inplace=True)\n",
    "    return df\n",
    "\n",
    "@df_info\n",
    "def process_augmented(df):\n",
    "    df = (df.pipe(clean_shape)\n",
    "            .pipe(over_sample)\n",
    "    )\n",
    "    df = df[['spectrogram','class_ID', 'class_name', 'augmentation']]\n",
    "    \n",
    "    return df\n",
    "\n",
    "#Over sampling data\n",
    "@df_info\n",
    "def over_sample(df):\n",
    "    oversample = RandomOverSampler(sampling_strategy='auto')\n",
    "    X, y = df[['spectrogram', 'augmentation']].values, df['class_ID'].values\n",
    "#     X = X.reshape(-1, 1)\n",
    "    X, y = oversample.fit_resample(X, y)\n",
    "    df = pd.DataFrame()\n",
    "    df['spectrogram'] = pd.Series([np.array(x[0]) for x in X])\n",
    "    df['augmentation'] = pd.Series([np.array(x[1]) for x in X])\n",
    "    df['augmentation'] = df['augmentation'].map(lambda x: str(x))\n",
    "    df['class_ID'] = pd.Series(y)\n",
    "    df['class_name'] = df['class_ID'].map(lambda x: get_class(x))\n",
    "    return df"
   ]
  },
  {
   "cell_type": "code",
   "execution_count": 12,
   "metadata": {},
   "outputs": [],
   "source": [
    "data_df_augmented_processed = process_augmented(data_df_augmented_raw)"
   ]
  },
  {
   "cell_type": "code",
   "execution_count": 288,
   "metadata": {},
   "outputs": [
    {
     "name": "stdout",
     "output_type": "stream",
     "text": [
      "The most frequent shape is (128, 87)\n",
      "After applying clean_shape, shape of df = (3830, 8)\n",
      "Columns of df are Index(['file_path', 'file_name', 'class_name', 'class_ID', 'y', 'sr',\n",
      "       'spectrogram', 'augmentation', 'shape'],\n",
      "      dtype='object')\n",
      "\n",
      "After applying process_augmented, shape of df = (3830, 4)\n",
      "Columns of df are Index(['file_path', 'file_name', 'class_name', 'class_ID', 'y', 'sr',\n",
      "       'spectrogram', 'augmentation', 'shape'],\n",
      "      dtype='object')\n",
      "\n"
     ]
    }
   ],
   "source": [
    "data_df_augmented_processed.to_csv(os.path.join(METADATA_DIR_AUGMENTED_PROCESSED, 'data.csv'), index=False)\n",
    "data_df_augmented_processed.to_pickle(os.path.join(METADATA_DIR_AUGMENTED_PROCESSED, 'data.pkl'))"
   ]
  },
  {
   "cell_type": "code",
   "execution_count": 290,
   "metadata": {},
   "outputs": [
    {
     "name": "stdout",
     "output_type": "stream",
     "text": [
      "After applying get_count, shape of df = (10,)\n",
      "Columns of df are Index(['spectrogram', 'class_ID', 'class_name', 'augmentation'], dtype='object')\n",
      "\n",
      "c     691\n",
      "am    578\n",
      "e     558\n",
      "g     531\n",
      "d     524\n",
      "dm    279\n",
      "em    275\n",
      "a     185\n",
      "f     173\n",
      "bm     36\n",
      "Name: class_name, dtype: int64\n"
     ]
    }
   ],
   "source": [
    "print(get_count(data_df_augmented_processed))"
   ]
  },
  {
   "cell_type": "code",
   "execution_count": 296,
   "metadata": {},
   "outputs": [
    {
     "name": "stdout",
     "output_type": "stream",
     "text": [
      "After applying get_augmentation_count, shape of df = (4,)\n",
      "Columns of df are Index(['spectrogram', 'class_ID', 'class_name', 'augmentation'], dtype='object')\n",
      "\n",
      "None         2532\n",
      "pitch_200     633\n",
      "pitch_250     633\n",
      "speed_81       32\n",
      "Name: augmentation, dtype: int64\n"
     ]
    }
   ],
   "source": [
    "print(get_augmentation_count(data_df_augmented_processed))"
   ]
  },
  {
   "cell_type": "markdown",
   "metadata": {},
   "source": [
    "The dataset consists of:\n",
    "- 1-633 normal samples.\n",
    "- 634-981 samples speed up by 1.07.\n",
    "- 982-2594 samples Slowed down to 0.81.\n",
    "- 2595-3227 samples Pitch modulated 2 semitones higher.\n",
    "- 3228-3860 samples Pitch modulated 2.5 semitones higher.\n",
    "\n",
    "\n",
    "\n"
   ]
  },
  {
   "cell_type": "markdown",
   "metadata": {},
   "source": [
    "### Load processed augmented data"
   ]
  },
  {
   "cell_type": "code",
   "execution_count": 291,
   "metadata": {},
   "outputs": [],
   "source": [
    "dataset = pd.read_pickle(os.path.join(METADATA_DIR_AUGMENTED_PROCESSED, 'data.pkl'))"
   ]
  },
  {
   "cell_type": "code",
   "execution_count": 292,
   "metadata": {},
   "outputs": [
    {
     "name": "stdout",
     "output_type": "stream",
     "text": [
      "Number of samples:  3830\n"
     ]
    }
   ],
   "source": [
    "print(\"Number of samples: \", len(dataset))"
   ]
  },
  {
   "cell_type": "code",
   "execution_count": 293,
   "metadata": {},
   "outputs": [
    {
     "data": {
      "text/plain": [
       "spectrogram     [[0.023263648, 0.013200079, 0.005690117, 0.005...\n",
       "class_ID                                                        9\n",
       "class_name                                                      g\n",
       "augmentation                                                 None\n",
       "Name: 0, dtype: object"
      ]
     },
     "execution_count": 293,
     "metadata": {},
     "output_type": "execute_result"
    }
   ],
   "source": [
    "dataset.iloc[0]"
   ]
  },
  {
   "cell_type": "code",
   "execution_count": 294,
   "metadata": {},
   "outputs": [
    {
     "data": {
      "text/plain": [
       "(128, 87)"
      ]
     },
     "execution_count": 294,
     "metadata": {},
     "output_type": "execute_result"
    }
   ],
   "source": [
    "dataset['spectrogram'].iloc[0].shape"
   ]
  },
  {
   "cell_type": "markdown",
   "metadata": {},
   "source": [
    "### Splitting into train and test"
   ]
  },
  {
   "cell_type": "code",
   "execution_count": 295,
   "metadata": {},
   "outputs": [
    {
     "name": "stdout",
     "output_type": "stream",
     "text": [
      "Number of training samples is 3064\n",
      "Number of testing samples is 766\n",
      "                                            spectrogram  class_ID class_name  \\\n",
      "2922  [[0.00019362751, 0.00020689117, 0.00017715132,...         8          f   \n",
      "3716  [[0.005589589, 0.005713801, 0.0062338435, 0.00...         6          e   \n",
      "1964  [[0.0058204937, 0.005927953, 0.0057165334, 0.0...         9          g   \n",
      "3621  [[0.00064211176, 0.0005400054, 0.00063801196, ...         0          a   \n",
      "1694  [[0.012214066, 0.0051321704, 0.0035163227, 0.0...         7         em   \n",
      "1157  [[0.007482484, 0.0071817273, 0.007316982, 0.00...         6          e   \n",
      "318   [[0.0013349487, 0.0008135946, 0.00034707907, 0...         5         dm   \n",
      "839   [[0.046818838, 0.026844991, 0.009680895, 0.007...         1         am   \n",
      "893   [[0.00609399, 0.0014312841, 4.5376742e-05, 4.6...         3          c   \n",
      "985   [[5.567563e-05, 7.225462e-05, 0.00010913082, 0...         5         dm   \n",
      "\n",
      "     augmentation  \n",
      "2922    pitch_200  \n",
      "3716         None  \n",
      "1964         None  \n",
      "3621         None  \n",
      "1694    pitch_250  \n",
      "1157         None  \n",
      "318          None  \n",
      "839          None  \n",
      "893          None  \n",
      "985          None  \n",
      "                                          spectrogram  class_ID class_name  \\\n",
      "1   [[0.0030921197, 0.008742289, 0.01737749, 0.010...         9          g   \n",
      "4   [[0.0064443834, 0.007321003, 0.0068667047, 0.0...         9          g   \n",
      "11  [[0.0055058054, 0.0063044643, 0.009104774, 0.0...         9          g   \n",
      "16  [[0.006768409, 0.006810356, 0.005866915, 0.005...         9          g   \n",
      "19  [[0.010850698, 0.0083983885, 0.004220161, 0.00...         9          g   \n",
      "21  [[0.008684181, 0.008429323, 0.0065017547, 0.00...         9          g   \n",
      "34  [[1.854072e-05, 4.2590924e-05, 6.209528e-05, 8...         9          g   \n",
      "35  [[0.0045183985, 0.005631184, 0.006751319, 0.00...         9          g   \n",
      "36  [[0.006491574, 0.006028326, 0.014432897, 0.021...         9          g   \n",
      "38  [[0.00048381044, 0.00054820086, 0.000118413016...         9          g   \n",
      "\n",
      "   augmentation  \n",
      "1          None  \n",
      "4          None  \n",
      "11         None  \n",
      "16         None  \n",
      "19         None  \n",
      "21         None  \n",
      "34         None  \n",
      "35         None  \n",
      "36         None  \n",
      "38         None  \n"
     ]
    }
   ],
   "source": [
    "np.random.seed(42)\n",
    "sample = np.random.choice(dataset.index, size=int(len(dataset)*0.8), replace=False)\n",
    "train_data, test_data = dataset.iloc[sample], dataset.drop(sample)\n",
    "\n",
    "print(\"Number of training samples is\", len(train_data))\n",
    "print(\"Number of testing samples is\", len(test_data))\n",
    "print(train_data[:10])\n",
    "print(test_data[:10])"
   ]
  },
  {
   "cell_type": "code",
   "execution_count": 297,
   "metadata": {},
   "outputs": [
    {
     "data": {
      "text/plain": [
       "array([[1.9362751e-04, 2.0689117e-04, 1.7715132e-04, ..., 7.8186815e-05,\n",
       "        2.1387306e-04, 2.3202693e-04],\n",
       "       [2.0357800e-06, 1.5576363e-06, 5.1439069e-06, ..., 2.0222674e-06,\n",
       "        3.8249955e-06, 2.2311793e-05],\n",
       "       [9.7707853e-06, 8.3493305e-06, 2.2361973e-04, ..., 3.7016266e-06,\n",
       "        5.5294618e-06, 3.0655599e-05],\n",
       "       ...,\n",
       "       [1.3973332e-08, 2.1376330e-08, 1.2206337e-07, ..., 1.0000371e-08,\n",
       "        8.3683416e-09, 9.9608970e-09],\n",
       "       [7.7119653e-09, 7.1859856e-09, 1.8832310e-08, ..., 1.8183540e-09,\n",
       "        1.9158120e-09, 2.4459623e-09],\n",
       "       [8.5486302e-09, 2.8051879e-09, 3.3572976e-09, ..., 1.4130125e-10,\n",
       "        2.4894264e-10, 1.1311369e-09]], dtype=float32)"
      ]
     },
     "execution_count": 297,
     "metadata": {},
     "output_type": "execute_result"
    }
   ],
   "source": [
    "train_data['spectrogram'].iloc[0]"
   ]
  },
  {
   "cell_type": "code",
   "execution_count": 298,
   "metadata": {},
   "outputs": [
    {
     "name": "stdout",
     "output_type": "stream",
     "text": [
      "spectrogram     [[0.00019362751, 0.00020689117, 0.00017715132,...\n",
      "class_ID                                                        8\n",
      "class_name                                                      f\n",
      "augmentation                                            pitch_200\n",
      "Name: 2922, dtype: object\n",
      "(128, 87)\n",
      "0.00020689117\n",
      "8\n"
     ]
    }
   ],
   "source": [
    "print(train_data.iloc[0])\n",
    "print(train_data.iloc[0][0].shape)   #shape of input image\n",
    "print(train_data.iloc[0][0][0][1])\n",
    "print(train_data.iloc[0][1])    #output class id"
   ]
  },
  {
   "cell_type": "markdown",
   "metadata": {},
   "source": [
    "## Splitting the data into features (X) and targets (y)\n",
    "Now, as a final step before the training, we'll split the data into features (X) and targets (y)."
   ]
  },
  {
   "cell_type": "code",
   "execution_count": 299,
   "metadata": {},
   "outputs": [
    {
     "name": "stdout",
     "output_type": "stream",
     "text": [
      "2922    [[0.00019362751, 0.00020689117, 0.00017715132,...\n",
      "3716    [[0.005589589, 0.005713801, 0.0062338435, 0.00...\n",
      "1964    [[0.0058204937, 0.005927953, 0.0057165334, 0.0...\n",
      "3621    [[0.00064211176, 0.0005400054, 0.00063801196, ...\n",
      "1694    [[0.012214066, 0.0051321704, 0.0035163227, 0.0...\n",
      "1157    [[0.007482484, 0.0071817273, 0.007316982, 0.00...\n",
      "318     [[0.0013349487, 0.0008135946, 0.00034707907, 0...\n",
      "839     [[0.046818838, 0.026844991, 0.009680895, 0.007...\n",
      "893     [[0.00609399, 0.0014312841, 4.5376742e-05, 4.6...\n",
      "985     [[5.567563e-05, 7.225462e-05, 0.00010913082, 0...\n",
      "Name: spectrogram, dtype: object\n",
      "2922    8\n",
      "3716    6\n",
      "1964    9\n",
      "3621    0\n",
      "1694    7\n",
      "1157    6\n",
      "318     5\n",
      "839     1\n",
      "893     3\n",
      "985     5\n",
      "Name: class_ID, dtype: int64\n"
     ]
    }
   ],
   "source": [
    "X_train = train_data['spectrogram']\n",
    "y_train = train_data['class_ID']\n",
    "X_test = test_data['spectrogram']\n",
    "y_test = test_data['class_ID']\n",
    "\n",
    "print(X_train[:10])\n",
    "print(y_train[:10])"
   ]
  },
  {
   "cell_type": "markdown",
   "metadata": {},
   "source": [
    "### Reshape for CNN input"
   ]
  },
  {
   "cell_type": "code",
   "execution_count": 300,
   "metadata": {},
   "outputs": [],
   "source": [
    "X_train = np.array([x.reshape( (128, 87, 1) ) for x in X_train])\n",
    "X_test = np.array([x.reshape( (128, 87, 1) ) for x in X_test])"
   ]
  },
  {
   "cell_type": "code",
   "execution_count": 301,
   "metadata": {},
   "outputs": [
    {
     "name": "stdout",
     "output_type": "stream",
     "text": [
      "(128, 87, 1)\n",
      "9\n"
     ]
    }
   ],
   "source": [
    "print(X_train[0].shape)\n",
    "print(y_train[0])"
   ]
  },
  {
   "cell_type": "markdown",
   "metadata": {},
   "source": [
    "### One-Hot encoding for classes"
   ]
  },
  {
   "cell_type": "code",
   "execution_count": 302,
   "metadata": {},
   "outputs": [],
   "source": [
    "y_train = np.array(keras.utils.to_categorical(y_train, 10))\n",
    "y_test_values=y_test\n",
    "y_test = np.array(keras.utils.to_categorical(y_test, 10))"
   ]
  },
  {
   "cell_type": "code",
   "execution_count": 303,
   "metadata": {},
   "outputs": [
    {
     "name": "stdout",
     "output_type": "stream",
     "text": [
      "[0. 0. 0. 0. 0. 0. 0. 0. 1. 0.]\n"
     ]
    }
   ],
   "source": [
    "print(y_train[0])"
   ]
  },
  {
   "cell_type": "markdown",
   "metadata": {},
   "source": [
    "### Model"
   ]
  },
  {
   "cell_type": "code",
   "execution_count": 306,
   "metadata": {},
   "outputs": [
    {
     "name": "stdout",
     "output_type": "stream",
     "text": [
      "Model: \"sequential_2\"\n",
      "_________________________________________________________________\n",
      "Layer (type)                 Output Shape              Param #   \n",
      "=================================================================\n",
      "conv2d_4 (Conv2D)            (None, 124, 83, 24)       624       \n",
      "_________________________________________________________________\n",
      "max_pooling2d_3 (MaxPooling2 (None, 31, 41, 24)        0         \n",
      "_________________________________________________________________\n",
      "activation_6 (Activation)    (None, 31, 41, 24)        0         \n",
      "_________________________________________________________________\n",
      "conv2d_5 (Conv2D)            (None, 27, 37, 48)        28848     \n",
      "_________________________________________________________________\n",
      "max_pooling2d_4 (MaxPooling2 (None, 6, 18, 48)         0         \n",
      "_________________________________________________________________\n",
      "activation_7 (Activation)    (None, 6, 18, 48)         0         \n",
      "_________________________________________________________________\n",
      "conv2d_6 (Conv2D)            (None, 2, 14, 48)         57648     \n",
      "_________________________________________________________________\n",
      "activation_8 (Activation)    (None, 2, 14, 48)         0         \n",
      "_________________________________________________________________\n",
      "flatten_2 (Flatten)          (None, 1344)              0         \n",
      "_________________________________________________________________\n",
      "dropout_3 (Dropout)          (None, 1344)              0         \n",
      "_________________________________________________________________\n",
      "dense_3 (Dense)              (None, 64)                86080     \n",
      "_________________________________________________________________\n",
      "activation_9 (Activation)    (None, 64)                0         \n",
      "_________________________________________________________________\n",
      "dropout_4 (Dropout)          (None, 64)                0         \n",
      "_________________________________________________________________\n",
      "dense_4 (Dense)              (None, 10)                650       \n",
      "_________________________________________________________________\n",
      "activation_10 (Activation)   (None, 10)                0         \n",
      "=================================================================\n",
      "Total params: 173,850\n",
      "Trainable params: 173,850\n",
      "Non-trainable params: 0\n",
      "_________________________________________________________________\n"
     ]
    }
   ],
   "source": [
    "model.summary()\n"
   ]
  },
  {
   "cell_type": "code",
   "execution_count": 307,
   "metadata": {},
   "outputs": [
    {
     "name": "stdout",
     "output_type": "stream",
     "text": [
      "Train on 3064 samples, validate on 766 samples\n",
      "Epoch 1/70\n",
      "3064/3064 [==============================] - 11s 4ms/step - loss: 2.1842 - accuracy: 0.1988 - precision: 0.2808 - recall: 0.0286 - fmeasure: 0.0498 - val_loss: 1.9612 - val_accuracy: 0.2546 - val_precision: 0.4301 - val_recall: 0.0436 - val_fmeasure: 0.0762\n",
      "Epoch 2/70\n",
      "3064/3064 [==============================] - 9s 3ms/step - loss: 1.9245 - accuracy: 0.2725 - precision: 0.6000 - recall: 0.0870 - fmeasure: 0.1470 - val_loss: 1.7740 - val_accuracy: 0.3433 - val_precision: 0.6996 - val_recall: 0.1504 - val_fmeasure: 0.2383\n",
      "Epoch 3/70\n",
      "3064/3064 [==============================] - 10s 3ms/step - loss: 1.7537 - accuracy: 0.3636 - precision: 0.7929 - recall: 0.1880 - fmeasure: 0.2967 - val_loss: 1.6002 - val_accuracy: 0.4034 - val_precision: 0.7670 - val_recall: 0.2427 - val_fmeasure: 0.3582\n",
      "Epoch 4/70\n",
      "3064/3064 [==============================] - 9s 3ms/step - loss: 1.6041 - accuracy: 0.4227 - precision: 0.8843 - recall: 0.2669 - fmeasure: 0.4009 - val_loss: 1.5010 - val_accuracy: 0.4413 - val_precision: 0.8107 - val_recall: 0.3252 - val_fmeasure: 0.4547\n",
      "Epoch 5/70\n",
      "3064/3064 [==============================] - 9s 3ms/step - loss: 1.5387 - accuracy: 0.4586 - precision: 0.8986 - recall: 0.3214 - fmeasure: 0.4635 - val_loss: 1.5803 - val_accuracy: 0.4230 - val_precision: 0.7658 - val_recall: 0.3085 - val_fmeasure: 0.4323\n",
      "Epoch 6/70\n",
      "3064/3064 [==============================] - 9s 3ms/step - loss: 1.5512 - accuracy: 0.4605 - precision: 0.8940 - recall: 0.3127 - fmeasure: 0.4539 - val_loss: 1.4431 - val_accuracy: 0.4517 - val_precision: 0.8474 - val_recall: 0.3419 - val_fmeasure: 0.4765\n",
      "Epoch 7/70\n",
      "3064/3064 [==============================] - 10s 3ms/step - loss: 1.4028 - accuracy: 0.5131 - precision: 0.9377 - recall: 0.3620 - fmeasure: 0.5147 - val_loss: 1.3842 - val_accuracy: 0.5431 - val_precision: 0.8305 - val_recall: 0.3547 - val_fmeasure: 0.4872\n",
      "Epoch 8/70\n",
      "3064/3064 [==============================] - 10s 3ms/step - loss: 1.3316 - accuracy: 0.5552 - precision: 0.9453 - recall: 0.3731 - fmeasure: 0.5261 - val_loss: 1.2859 - val_accuracy: 0.6253 - val_precision: 0.8186 - val_recall: 0.3650 - val_fmeasure: 0.4962\n",
      "Epoch 9/70\n",
      "3064/3064 [==============================] - 9s 3ms/step - loss: 1.2182 - accuracy: 0.5884 - precision: 0.9346 - recall: 0.3912 - fmeasure: 0.5429 - val_loss: 1.1503 - val_accuracy: 0.6136 - val_precision: 0.8266 - val_recall: 0.4111 - val_fmeasure: 0.5370\n",
      "Epoch 10/70\n",
      "3064/3064 [==============================] - 10s 3ms/step - loss: 1.1348 - accuracy: 0.6276 - precision: 0.9099 - recall: 0.4195 - fmeasure: 0.5671 - val_loss: 1.1989 - val_accuracy: 0.6423 - val_precision: 0.8169 - val_recall: 0.3906 - val_fmeasure: 0.5203\n",
      "Epoch 11/70\n",
      "3064/3064 [==============================] - 11s 4ms/step - loss: 1.1123 - accuracy: 0.6332 - precision: 0.8898 - recall: 0.4409 - fmeasure: 0.5821 - val_loss: 1.1435 - val_accuracy: 0.6070 - val_precision: 0.7477 - val_recall: 0.4265 - val_fmeasure: 0.5286\n",
      "Epoch 12/70\n",
      "3064/3064 [==============================] - 10s 3ms/step - loss: 1.0994 - accuracy: 0.6312 - precision: 0.8508 - recall: 0.4344 - fmeasure: 0.5699 - val_loss: 0.9788 - val_accuracy: 0.6554 - val_precision: 0.7977 - val_recall: 0.4496 - val_fmeasure: 0.5599\n",
      "Epoch 13/70\n",
      "3064/3064 [==============================] - 9s 3ms/step - loss: 0.9127 - accuracy: 0.6837 - precision: 0.8771 - recall: 0.5055 - fmeasure: 0.6357 - val_loss: 0.8212 - val_accuracy: 0.6906 - val_precision: 0.7944 - val_recall: 0.5624 - val_fmeasure: 0.6472\n",
      "Epoch 14/70\n",
      "3064/3064 [==============================] - 10s 3ms/step - loss: 0.8080 - accuracy: 0.7069 - precision: 0.8692 - recall: 0.5468 - fmeasure: 0.6660 - val_loss: 0.7706 - val_accuracy: 0.7350 - val_precision: 0.8079 - val_recall: 0.5444 - val_fmeasure: 0.6377\n",
      "Epoch 15/70\n",
      "3064/3064 [==============================] - 10s 3ms/step - loss: 0.7753 - accuracy: 0.7327 - precision: 0.8718 - recall: 0.5886 - fmeasure: 0.6976 - val_loss: 0.7125 - val_accuracy: 0.7768 - val_precision: 0.8561 - val_recall: 0.6128 - val_fmeasure: 0.6970\n",
      "Epoch 16/70\n",
      "3064/3064 [==============================] - 9s 3ms/step - loss: 0.7040 - accuracy: 0.7399 - precision: 0.8657 - recall: 0.6188 - fmeasure: 0.7183 - val_loss: 0.6434 - val_accuracy: 0.7846 - val_precision: 0.8602 - val_recall: 0.6231 - val_fmeasure: 0.7028\n",
      "Epoch 17/70\n",
      "3064/3064 [==============================] - 9s 3ms/step - loss: 0.7327 - accuracy: 0.7454 - precision: 0.8641 - recall: 0.6276 - fmeasure: 0.7240 - val_loss: 0.6450 - val_accuracy: 0.7937 - val_precision: 0.8734 - val_recall: 0.6594 - val_fmeasure: 0.7382\n",
      "Epoch 18/70\n",
      "3064/3064 [==============================] - 9s 3ms/step - loss: 0.6476 - accuracy: 0.7719 - precision: 0.8670 - recall: 0.6610 - fmeasure: 0.7472 - val_loss: 0.8314 - val_accuracy: 0.7846 - val_precision: 0.8569 - val_recall: 0.6098 - val_fmeasure: 0.6915\n",
      "Epoch 19/70\n",
      "3064/3064 [==============================] - 10s 3ms/step - loss: 0.7934 - accuracy: 0.7435 - precision: 0.8330 - recall: 0.6295 - fmeasure: 0.7140 - val_loss: 0.7397 - val_accuracy: 0.7389 - val_precision: 0.7856 - val_recall: 0.5996 - val_fmeasure: 0.6678\n",
      "Epoch 20/70\n",
      "3064/3064 [==============================] - 10s 3ms/step - loss: 0.6754 - accuracy: 0.7696 - precision: 0.8714 - recall: 0.6653 - fmeasure: 0.7510 - val_loss: 0.5864 - val_accuracy: 0.8029 - val_precision: 0.8624 - val_recall: 0.7184 - val_fmeasure: 0.7762\n",
      "Epoch 21/70\n",
      "3064/3064 [==============================] - 9s 3ms/step - loss: 0.5873 - accuracy: 0.7941 - precision: 0.8790 - recall: 0.6968 - fmeasure: 0.7749 - val_loss: 0.5594 - val_accuracy: 0.8355 - val_precision: 0.8894 - val_recall: 0.7389 - val_fmeasure: 0.7959\n",
      "Epoch 22/70\n",
      "3064/3064 [==============================] - 10s 3ms/step - loss: 0.5901 - accuracy: 0.7918 - precision: 0.8689 - recall: 0.7146 - fmeasure: 0.7816 - val_loss: 0.5227 - val_accuracy: 0.8003 - val_precision: 0.8555 - val_recall: 0.7248 - val_fmeasure: 0.7760\n",
      "Epoch 23/70\n",
      "3064/3064 [==============================] - 10s 3ms/step - loss: 0.5292 - accuracy: 0.8065 - precision: 0.8769 - recall: 0.7247 - fmeasure: 0.7912 - val_loss: 0.4855 - val_accuracy: 0.8486 - val_precision: 0.8841 - val_recall: 0.7893 - val_fmeasure: 0.8292\n",
      "Epoch 24/70\n",
      "3064/3064 [==============================] - 12s 4ms/step - loss: 0.4933 - accuracy: 0.8166 - precision: 0.8793 - recall: 0.7468 - fmeasure: 0.8057 - val_loss: 0.5263 - val_accuracy: 0.8616 - val_precision: 0.8952 - val_recall: 0.8124 - val_fmeasure: 0.8494\n",
      "Epoch 25/70\n",
      "3064/3064 [==============================] - 10s 3ms/step - loss: 0.6307 - accuracy: 0.7924 - precision: 0.8593 - recall: 0.7182 - fmeasure: 0.7806 - val_loss: 0.7451 - val_accuracy: 0.7885 - val_precision: 0.8168 - val_recall: 0.7346 - val_fmeasure: 0.7696\n",
      "Epoch 26/70\n",
      "3064/3064 [==============================] - 10s 3ms/step - loss: 0.5858 - accuracy: 0.7901 - precision: 0.8575 - recall: 0.7201 - fmeasure: 0.7810 - val_loss: 0.6294 - val_accuracy: 0.8603 - val_precision: 0.8919 - val_recall: 0.7966 - val_fmeasure: 0.8373\n",
      "Epoch 27/70\n",
      "3064/3064 [==============================] - 10s 3ms/step - loss: 0.5474 - accuracy: 0.8071 - precision: 0.8604 - recall: 0.7370 - fmeasure: 0.7922 - val_loss: 0.5277 - val_accuracy: 0.8433 - val_precision: 0.8763 - val_recall: 0.7991 - val_fmeasure: 0.8336\n",
      "Epoch 28/70\n",
      "3064/3064 [==============================] - 10s 3ms/step - loss: 0.4995 - accuracy: 0.8140 - precision: 0.8786 - recall: 0.7571 - fmeasure: 0.8115 - val_loss: 0.6241 - val_accuracy: 0.8316 - val_precision: 0.8616 - val_recall: 0.7906 - val_fmeasure: 0.8219\n",
      "Epoch 29/70\n",
      "3064/3064 [==============================] - 11s 4ms/step - loss: 0.5359 - accuracy: 0.8065 - precision: 0.8694 - recall: 0.7442 - fmeasure: 0.7999 - val_loss: 0.5673 - val_accuracy: 0.8407 - val_precision: 0.8777 - val_recall: 0.7641 - val_fmeasure: 0.8116\n",
      "Epoch 30/70\n",
      "3064/3064 [==============================] - 10s 3ms/step - loss: 0.4604 - accuracy: 0.8355 - precision: 0.8873 - recall: 0.7860 - fmeasure: 0.8321 - val_loss: 0.5023 - val_accuracy: 0.8590 - val_precision: 0.8964 - val_recall: 0.8265 - val_fmeasure: 0.8579\n",
      "Epoch 31/70\n",
      "3064/3064 [==============================] - 9s 3ms/step - loss: 0.4455 - accuracy: 0.8388 - precision: 0.8860 - recall: 0.7919 - fmeasure: 0.8348 - val_loss: 0.4838 - val_accuracy: 0.8551 - val_precision: 0.8826 - val_recall: 0.8218 - val_fmeasure: 0.8491\n",
      "Epoch 32/70\n",
      "3064/3064 [==============================] - 9s 3ms/step - loss: 0.4384 - accuracy: 0.8384 - precision: 0.8875 - recall: 0.7942 - fmeasure: 0.8371 - val_loss: 0.4302 - val_accuracy: 0.8655 - val_precision: 0.8949 - val_recall: 0.8457 - val_fmeasure: 0.8674\n",
      "Epoch 33/70\n",
      "3064/3064 [==============================] - 9s 3ms/step - loss: 0.4005 - accuracy: 0.8375 - precision: 0.8782 - recall: 0.8039 - fmeasure: 0.8383 - val_loss: 0.4428 - val_accuracy: 0.8616 - val_precision: 0.8956 - val_recall: 0.8406 - val_fmeasure: 0.8650\n",
      "Epoch 34/70\n",
      "3064/3064 [==============================] - 9s 3ms/step - loss: 0.5467 - accuracy: 0.8345 - precision: 0.8806 - recall: 0.7867 - fmeasure: 0.8299 - val_loss: 0.4320 - val_accuracy: 0.8668 - val_precision: 0.8868 - val_recall: 0.8491 - val_fmeasure: 0.8668\n",
      "Epoch 35/70\n",
      "3064/3064 [==============================] - 9s 3ms/step - loss: 0.5171 - accuracy: 0.8567 - precision: 0.8974 - recall: 0.8208 - fmeasure: 0.8561 - val_loss: 0.7007 - val_accuracy: 0.8133 - val_precision: 0.8444 - val_recall: 0.7722 - val_fmeasure: 0.8042\n",
      "Epoch 36/70\n",
      "3064/3064 [==============================] - 9s 3ms/step - loss: 0.4749 - accuracy: 0.8404 - precision: 0.8836 - recall: 0.7971 - fmeasure: 0.8369 - val_loss: 0.4021 - val_accuracy: 0.8851 - val_precision: 0.9208 - val_recall: 0.8598 - val_fmeasure: 0.8873\n",
      "Epoch 37/70\n",
      "3064/3064 [==============================] - 8s 3ms/step - loss: 0.3720 - accuracy: 0.8639 - precision: 0.9044 - recall: 0.8250 - fmeasure: 0.8619 - val_loss: 0.4458 - val_accuracy: 0.8786 - val_precision: 0.8968 - val_recall: 0.8419 - val_fmeasure: 0.8666\n",
      "Epoch 38/70\n",
      "3064/3064 [==============================] - 8s 3ms/step - loss: 0.3767 - accuracy: 0.8610 - precision: 0.8976 - recall: 0.8266 - fmeasure: 0.8595 - val_loss: 0.4165 - val_accuracy: 0.8903 - val_precision: 0.9076 - val_recall: 0.8662 - val_fmeasure: 0.8854\n",
      "Epoch 39/70\n",
      "3064/3064 [==============================] - 9s 3ms/step - loss: 0.3298 - accuracy: 0.8815 - precision: 0.9086 - recall: 0.8513 - fmeasure: 0.8783 - val_loss: 0.4111 - val_accuracy: 0.8916 - val_precision: 0.9135 - val_recall: 0.8701 - val_fmeasure: 0.8902\n",
      "Epoch 40/70\n",
      "3064/3064 [==============================] - 10s 3ms/step - loss: 0.3052 - accuracy: 0.8854 - precision: 0.9150 - recall: 0.8604 - fmeasure: 0.8860 - val_loss: 0.4019 - val_accuracy: 0.8969 - val_precision: 0.9080 - val_recall: 0.8778 - val_fmeasure: 0.8921\n",
      "Epoch 41/70\n",
      "3064/3064 [==============================] - 9s 3ms/step - loss: 0.3218 - accuracy: 0.8841 - precision: 0.9168 - recall: 0.8591 - fmeasure: 0.8862 - val_loss: 0.4483 - val_accuracy: 0.8890 - val_precision: 0.9187 - val_recall: 0.8718 - val_fmeasure: 0.8935\n",
      "Epoch 42/70\n",
      "3064/3064 [==============================] - 9s 3ms/step - loss: 0.3342 - accuracy: 0.8851 - precision: 0.9148 - recall: 0.8536 - fmeasure: 0.8824 - val_loss: 0.4748 - val_accuracy: 0.8616 - val_precision: 0.8798 - val_recall: 0.8380 - val_fmeasure: 0.8572\n",
      "Epoch 43/70\n",
      "3064/3064 [==============================] - 9s 3ms/step - loss: 0.3362 - accuracy: 0.8760 - precision: 0.9088 - recall: 0.8510 - fmeasure: 0.8781 - val_loss: 0.4320 - val_accuracy: 0.8943 - val_precision: 0.9124 - val_recall: 0.8803 - val_fmeasure: 0.8949\n",
      "Epoch 44/70\n",
      "3064/3064 [==============================] - 10s 3ms/step - loss: 0.3891 - accuracy: 0.8711 - precision: 0.8986 - recall: 0.8474 - fmeasure: 0.8714 - val_loss: 0.4833 - val_accuracy: 0.8525 - val_precision: 0.8759 - val_recall: 0.8274 - val_fmeasure: 0.8493\n",
      "Epoch 45/70\n",
      "3064/3064 [==============================] - 11s 3ms/step - loss: 0.3772 - accuracy: 0.8786 - precision: 0.9089 - recall: 0.8471 - fmeasure: 0.8760 - val_loss: 0.4873 - val_accuracy: 0.8838 - val_precision: 0.8948 - val_recall: 0.8624 - val_fmeasure: 0.8773\n",
      "Epoch 46/70\n",
      "3064/3064 [==============================] - 9s 3ms/step - loss: 0.2856 - accuracy: 0.8936 - precision: 0.9184 - recall: 0.8714 - fmeasure: 0.8936 - val_loss: 0.3370 - val_accuracy: 0.9047 - val_precision: 0.9177 - val_recall: 0.8855 - val_fmeasure: 0.8998\n",
      "Epoch 47/70\n",
      "3064/3064 [==============================] - 9s 3ms/step - loss: 0.2952 - accuracy: 0.8998 - precision: 0.9274 - recall: 0.8802 - fmeasure: 0.9025 - val_loss: 0.3855 - val_accuracy: 0.8916 - val_precision: 0.9030 - val_recall: 0.8688 - val_fmeasure: 0.8843\n",
      "Epoch 48/70\n",
      "3064/3064 [==============================] - 10s 3ms/step - loss: 0.2550 - accuracy: 0.9106 - precision: 0.9289 - recall: 0.8877 - fmeasure: 0.9073 - val_loss: 0.3397 - val_accuracy: 0.9164 - val_precision: 0.9235 - val_recall: 0.8970 - val_fmeasure: 0.9096\n",
      "Epoch 49/70\n",
      "3064/3064 [==============================] - 10s 3ms/step - loss: 0.2526 - accuracy: 0.9060 - precision: 0.9263 - recall: 0.8873 - fmeasure: 0.9059 - val_loss: 0.5128 - val_accuracy: 0.8655 - val_precision: 0.8814 - val_recall: 0.8526 - val_fmeasure: 0.8660\n",
      "Epoch 50/70\n",
      "3064/3064 [==============================] - 10s 3ms/step - loss: 0.3367 - accuracy: 0.8969 - precision: 0.9213 - recall: 0.8756 - fmeasure: 0.8973 - val_loss: 0.4160 - val_accuracy: 0.9008 - val_precision: 0.9096 - val_recall: 0.8816 - val_fmeasure: 0.8941\n",
      "Epoch 51/70\n",
      "3064/3064 [==============================] - 9s 3ms/step - loss: 0.3411 - accuracy: 0.9024 - precision: 0.9235 - recall: 0.8789 - fmeasure: 0.9000 - val_loss: 0.3725 - val_accuracy: 0.9047 - val_precision: 0.9165 - val_recall: 0.8855 - val_fmeasure: 0.8998\n",
      "Epoch 52/70\n",
      "3064/3064 [==============================] - 9s 3ms/step - loss: 0.4927 - accuracy: 0.8894 - precision: 0.9095 - recall: 0.8695 - fmeasure: 0.8884 - val_loss: 0.6222 - val_accuracy: 0.8120 - val_precision: 0.8488 - val_recall: 0.7829 - val_fmeasure: 0.8124\n",
      "Epoch 53/70\n",
      "3064/3064 [==============================] - 15s 5ms/step - loss: 1.0945 - accuracy: 0.7885 - precision: 0.8492 - recall: 0.7351 - fmeasure: 0.7861 - val_loss: 0.5976 - val_accuracy: 0.8460 - val_precision: 0.8733 - val_recall: 0.8137 - val_fmeasure: 0.8407\n",
      "Epoch 54/70\n",
      "3064/3064 [==============================] - 15s 5ms/step - loss: 0.4646 - accuracy: 0.8584 - precision: 0.8993 - recall: 0.8192 - fmeasure: 0.8563 - val_loss: 0.3522 - val_accuracy: 0.8825 - val_precision: 0.9066 - val_recall: 0.8547 - val_fmeasure: 0.8779\n",
      "Epoch 55/70\n",
      "3064/3064 [==============================] - 10s 3ms/step - loss: 0.3584 - accuracy: 0.8789 - precision: 0.9136 - recall: 0.8432 - fmeasure: 0.8761 - val_loss: 0.6409 - val_accuracy: 0.8851 - val_precision: 0.9099 - val_recall: 0.8667 - val_fmeasure: 0.8866\n",
      "Epoch 56/70\n",
      "3064/3064 [==============================] - 10s 3ms/step - loss: 0.2937 - accuracy: 0.9005 - precision: 0.9283 - recall: 0.8756 - fmeasure: 0.9005 - val_loss: 0.6444 - val_accuracy: 0.9112 - val_precision: 0.9258 - val_recall: 0.8850 - val_fmeasure: 0.9034\n",
      "Epoch 57/70\n",
      "3064/3064 [==============================] - 9s 3ms/step - loss: 0.2363 - accuracy: 0.9171 - precision: 0.9397 - recall: 0.8994 - fmeasure: 0.9186 - val_loss: 0.6298 - val_accuracy: 0.9021 - val_precision: 0.9130 - val_recall: 0.8893 - val_fmeasure: 0.9003\n",
      "Epoch 58/70\n",
      "3064/3064 [==============================] - 8s 3ms/step - loss: 0.2607 - accuracy: 0.9089 - precision: 0.9319 - recall: 0.8880 - fmeasure: 0.9087 - val_loss: 0.4948 - val_accuracy: 0.9151 - val_precision: 0.9280 - val_recall: 0.8957 - val_fmeasure: 0.9110\n",
      "Epoch 59/70\n",
      "3064/3064 [==============================] - 9s 3ms/step - loss: 0.2499 - accuracy: 0.9161 - precision: 0.9298 - recall: 0.8974 - fmeasure: 0.9129 - val_loss: 0.2666 - val_accuracy: 0.9230 - val_precision: 0.9356 - val_recall: 0.9060 - val_fmeasure: 0.9198\n",
      "Epoch 60/70\n",
      "3064/3064 [==============================] - 9s 3ms/step - loss: 0.2428 - accuracy: 0.9145 - precision: 0.9383 - recall: 0.8916 - fmeasure: 0.9138 - val_loss: 0.4485 - val_accuracy: 0.9125 - val_precision: 0.9240 - val_recall: 0.9021 - val_fmeasure: 0.9123\n",
      "Epoch 61/70\n"
     ]
    },
    {
     "name": "stdout",
     "output_type": "stream",
     "text": [
      "3064/3064 [==============================] - 8s 3ms/step - loss: 0.1849 - accuracy: 0.9367 - precision: 0.9514 - recall: 0.9208 - fmeasure: 0.9355 - val_loss: 0.4594 - val_accuracy: 0.9269 - val_precision: 0.9371 - val_recall: 0.9124 - val_fmeasure: 0.9240\n",
      "Epoch 62/70\n",
      "3064/3064 [==============================] - 9s 3ms/step - loss: 0.1772 - accuracy: 0.9422 - precision: 0.9554 - recall: 0.9305 - fmeasure: 0.9424 - val_loss: 0.2911 - val_accuracy: 0.9269 - val_precision: 0.9336 - val_recall: 0.9124 - val_fmeasure: 0.9224\n",
      "Epoch 63/70\n",
      "3064/3064 [==============================] - 8s 2ms/step - loss: 0.3288 - accuracy: 0.9063 - precision: 0.9315 - recall: 0.8932 - fmeasure: 0.9114 - val_loss: 0.3521 - val_accuracy: 0.9256 - val_precision: 0.9360 - val_recall: 0.9124 - val_fmeasure: 0.9236\n",
      "Epoch 64/70\n",
      "3064/3064 [==============================] - 8s 3ms/step - loss: 0.2975 - accuracy: 0.9063 - precision: 0.9228 - recall: 0.8896 - fmeasure: 0.9054 - val_loss: 0.5131 - val_accuracy: 0.9191 - val_precision: 0.9280 - val_recall: 0.9060 - val_fmeasure: 0.9164\n",
      "Epoch 65/70\n",
      "3064/3064 [==============================] - 10s 3ms/step - loss: 0.7390 - accuracy: 0.8789 - precision: 0.9117 - recall: 0.8409 - fmeasure: 0.8736 - val_loss: 0.7685 - val_accuracy: 0.8786 - val_precision: 0.8855 - val_recall: 0.8389 - val_fmeasure: 0.8597\n",
      "Epoch 66/70\n",
      "3064/3064 [==============================] - 8s 3ms/step - loss: 0.4185 - accuracy: 0.8874 - precision: 0.9147 - recall: 0.8636 - fmeasure: 0.8876 - val_loss: 0.5020 - val_accuracy: 0.9047 - val_precision: 0.9129 - val_recall: 0.8726 - val_fmeasure: 0.8909\n",
      "Epoch 67/70\n",
      "3064/3064 [==============================] - 9s 3ms/step - loss: 0.3207 - accuracy: 0.9054 - precision: 0.9241 - recall: 0.8818 - fmeasure: 0.9019 - val_loss: 0.3601 - val_accuracy: 0.9191 - val_precision: 0.9251 - val_recall: 0.9034 - val_fmeasure: 0.9135\n",
      "Epoch 68/70\n",
      "3064/3064 [==============================] - 10s 3ms/step - loss: 0.2516 - accuracy: 0.9210 - precision: 0.9388 - recall: 0.9036 - fmeasure: 0.9204 - val_loss: 0.3856 - val_accuracy: 0.9112 - val_precision: 0.9174 - val_recall: 0.9047 - val_fmeasure: 0.9108\n",
      "Epoch 69/70\n",
      "3064/3064 [==============================] - 10s 3ms/step - loss: 0.2174 - accuracy: 0.9344 - precision: 0.9497 - recall: 0.9188 - fmeasure: 0.9336 - val_loss: 0.3037 - val_accuracy: 0.9269 - val_precision: 0.9347 - val_recall: 0.9201 - val_fmeasure: 0.9271\n",
      "Epoch 70/70\n",
      "3064/3064 [==============================] - 8s 3ms/step - loss: 0.1800 - accuracy: 0.9347 - precision: 0.9485 - recall: 0.9237 - fmeasure: 0.9356 - val_loss: 0.2991 - val_accuracy: 0.9282 - val_precision: 0.9398 - val_recall: 0.9162 - val_fmeasure: 0.9274\n",
      "766/766 [==============================] - 0s 586us/step\n",
      "Test loss: 0.29912802490938273\n",
      "Test accuracy: 0.9281984567642212\n",
      "Test precision: 0.9412112236022949\n",
      "Test recall: 0.9177951216697693\n",
      "Test f1-score: 0.9289999008178711\n"
     ]
    }
   ],
   "source": [
    "model.compile(\n",
    "\toptimizer=\"Adam\",\n",
    "\tloss=\"categorical_crossentropy\",\n",
    "\tmetrics=['accuracy', precision, recall,fmeasure])\n",
    "\n",
    "model.fit(\n",
    "\tx=X_train, \n",
    "\ty=y_train,\n",
    "    epochs=70,\n",
    "    batch_size=20,\n",
    "    validation_data= (X_test, y_test))\n",
    "\n",
    "score = model.evaluate(\n",
    "\tx=X_test,\n",
    "\ty=y_test)\n",
    "\n",
    "print('Test loss:', score[0])\n",
    "print('Test accuracy:', score[1])\n",
    "print('Test precision:', score[2])\n",
    "print('Test recall:', score[3])\n",
    "print('Test f1-score:', score[4])\n"
   ]
  },
  {
   "cell_type": "code",
   "execution_count": 309,
   "metadata": {},
   "outputs": [],
   "source": [
    "predictions = model.predict_classes(X_test)"
   ]
  },
  {
   "cell_type": "code",
   "execution_count": 310,
   "metadata": {},
   "outputs": [
    {
     "data": {
      "text/plain": [
       "array([[ 22,   1,   3,   0,   1,   0,   0,   0,   0,   2],\n",
       "       [  0, 107,   1,   1,   0,   1,   0,   0,   0,   0],\n",
       "       [  0,   0,   4,   0,   0,   0,   1,   0,   0,   1],\n",
       "       [  0,   0,   0, 132,   1,   0,   1,   0,   1,   0],\n",
       "       [  0,   1,   0,   1, 106,   1,   0,   1,   0,   0],\n",
       "       [  0,   2,   0,   0,  17,  32,   1,   0,   0,   0],\n",
       "       [  0,   0,   0,   0,   0,   0, 122,   3,   0,   0],\n",
       "       [  0,   0,   0,   3,   0,   0,   6,  70,   1,   0],\n",
       "       [  0,   1,   0,   0,   0,   0,   0,   0,  30,   1],\n",
       "       [  0,   0,   0,   1,   0,   0,   0,   0,   0,  86]])"
      ]
     },
     "execution_count": 310,
     "metadata": {},
     "output_type": "execute_result"
    }
   ],
   "source": [
    "conf_mat=confusion_matrix(y_test_values, predictions, labels=range(10))\n",
    "conf_mat"
   ]
  },
  {
   "cell_type": "markdown",
   "metadata": {},
   "source": [
    "### Save model to disk"
   ]
  },
  {
   "cell_type": "markdown",
   "metadata": {},
   "source": [
    "### serialize model to JSON"
   ]
  },
  {
   "cell_type": "code",
   "execution_count": 36,
   "metadata": {},
   "outputs": [],
   "source": [
    "model_json = model.to_json()\n",
    "with open(os.path.join(MODEL_DIR, 'model_1.json'), \"w\") as json_file:\n",
    "    json_file.write(model_json)"
   ]
  },
  {
   "cell_type": "markdown",
   "metadata": {},
   "source": [
    "### serialize weights to HDF5"
   ]
  },
  {
   "cell_type": "code",
   "execution_count": 37,
   "metadata": {},
   "outputs": [
    {
     "name": "stdout",
     "output_type": "stream",
     "text": [
      "Saved model to disk\n"
     ]
    }
   ],
   "source": [
    "model.save_weights(os.path.join(MODEL_DIR, 'model_1.h5'))\n",
    "print(\"Saved model to disk\")"
   ]
  },
  {
   "cell_type": "code",
   "execution_count": 530,
   "metadata": {},
   "outputs": [
    {
     "ename": "SyntaxError",
     "evalue": "invalid syntax (<ipython-input-530-9deeb658d4ff>, line 1)",
     "output_type": "error",
     "traceback": [
      "\u001b[0;36m  File \u001b[0;32m\"<ipython-input-530-9deeb658d4ff>\"\u001b[0;36m, line \u001b[0;32m1\u001b[0m\n\u001b[0;31m    df.apply(lambda x: x['class_name'] if not x['class_name'])\u001b[0m\n\u001b[0m                                                             ^\u001b[0m\n\u001b[0;31mSyntaxError\u001b[0m\u001b[0;31m:\u001b[0m invalid syntax\n"
     ]
    }
   ],
   "source": [
    "df.apply(lambda x: x['class_name'] if not x['class_name'])"
   ]
  },
  {
   "cell_type": "code",
   "execution_count": 539,
   "metadata": {},
   "outputs": [],
   "source": [
    "mask = (df['class_ID']==9)"
   ]
  },
  {
   "cell_type": "code",
   "execution_count": 540,
   "metadata": {},
   "outputs": [
    {
     "data": {
      "text/html": [
       "<div>\n",
       "<style scoped>\n",
       "    .dataframe tbody tr th:only-of-type {\n",
       "        vertical-align: middle;\n",
       "    }\n",
       "\n",
       "    .dataframe tbody tr th {\n",
       "        vertical-align: top;\n",
       "    }\n",
       "\n",
       "    .dataframe thead th {\n",
       "        text-align: right;\n",
       "    }\n",
       "</style>\n",
       "<table border=\"1\" class=\"dataframe\">\n",
       "  <thead>\n",
       "    <tr style=\"text-align: right;\">\n",
       "      <th></th>\n",
       "      <th>spectrogram</th>\n",
       "      <th>class_ID</th>\n",
       "      <th>class_name</th>\n",
       "    </tr>\n",
       "  </thead>\n",
       "  <tbody>\n",
       "    <tr>\n",
       "      <th>0</th>\n",
       "      <td>[[0.023263648, 0.013200079, 0.005690117, 0.005...</td>\n",
       "      <td>9</td>\n",
       "      <td>g</td>\n",
       "    </tr>\n",
       "    <tr>\n",
       "      <th>1</th>\n",
       "      <td>[[0.0030921197, 0.008742289, 0.01737749, 0.010...</td>\n",
       "      <td>9</td>\n",
       "      <td>g</td>\n",
       "    </tr>\n",
       "    <tr>\n",
       "      <th>2</th>\n",
       "      <td>[[0.011711276, 0.00850786, 0.006172516, 0.0059...</td>\n",
       "      <td>9</td>\n",
       "      <td>g</td>\n",
       "    </tr>\n",
       "    <tr>\n",
       "      <th>3</th>\n",
       "      <td>[[0.008072537, 0.006353717, 0.0074853124, 0.00...</td>\n",
       "      <td>9</td>\n",
       "      <td>g</td>\n",
       "    </tr>\n",
       "    <tr>\n",
       "      <th>4</th>\n",
       "      <td>[[0.0064443834, 0.007321003, 0.0068667047, 0.0...</td>\n",
       "      <td>9</td>\n",
       "      <td>g</td>\n",
       "    </tr>\n",
       "    <tr>\n",
       "      <th>...</th>\n",
       "      <td>...</td>\n",
       "      <td>...</td>\n",
       "      <td>...</td>\n",
       "    </tr>\n",
       "    <tr>\n",
       "      <th>1145</th>\n",
       "      <td>[[0.0031992316, 0.0072675794, 0.0061215893, 0....</td>\n",
       "      <td>9</td>\n",
       "      <td>g</td>\n",
       "    </tr>\n",
       "    <tr>\n",
       "      <th>1146</th>\n",
       "      <td>[[0.0055688657, 0.0057151928, 0.005380762, 0.0...</td>\n",
       "      <td>9</td>\n",
       "      <td>g</td>\n",
       "    </tr>\n",
       "    <tr>\n",
       "      <th>1147</th>\n",
       "      <td>[[0.006491574, 0.006028326, 0.014432897, 0.021...</td>\n",
       "      <td>9</td>\n",
       "      <td>g</td>\n",
       "    </tr>\n",
       "    <tr>\n",
       "      <th>1148</th>\n",
       "      <td>[[0.006491574, 0.006028326, 0.014432897, 0.021...</td>\n",
       "      <td>9</td>\n",
       "      <td>g</td>\n",
       "    </tr>\n",
       "    <tr>\n",
       "      <th>1149</th>\n",
       "      <td>[[0.0006489661, 0.00071197835, 0.0016601454, 0...</td>\n",
       "      <td>9</td>\n",
       "      <td>g</td>\n",
       "    </tr>\n",
       "  </tbody>\n",
       "</table>\n",
       "<p>115 rows × 3 columns</p>\n",
       "</div>"
      ],
      "text/plain": [
       "                                            spectrogram  class_ID class_name\n",
       "0     [[0.023263648, 0.013200079, 0.005690117, 0.005...         9          g\n",
       "1     [[0.0030921197, 0.008742289, 0.01737749, 0.010...         9          g\n",
       "2     [[0.011711276, 0.00850786, 0.006172516, 0.0059...         9          g\n",
       "3     [[0.008072537, 0.006353717, 0.0074853124, 0.00...         9          g\n",
       "4     [[0.0064443834, 0.007321003, 0.0068667047, 0.0...         9          g\n",
       "...                                                 ...       ...        ...\n",
       "1145  [[0.0031992316, 0.0072675794, 0.0061215893, 0....         9          g\n",
       "1146  [[0.0055688657, 0.0057151928, 0.005380762, 0.0...         9          g\n",
       "1147  [[0.006491574, 0.006028326, 0.014432897, 0.021...         9          g\n",
       "1148  [[0.006491574, 0.006028326, 0.014432897, 0.021...         9          g\n",
       "1149  [[0.0006489661, 0.00071197835, 0.0016601454, 0...         9          g\n",
       "\n",
       "[115 rows x 3 columns]"
      ]
     },
     "execution_count": 540,
     "metadata": {},
     "output_type": "execute_result"
    }
   ],
   "source": [
    "df[mask]"
   ]
  },
  {
   "cell_type": "code",
   "execution_count": 553,
   "metadata": {},
   "outputs": [
    {
     "data": {
      "text/plain": [
       "'/home/fm-pc-lt-150/Desktop/Guitar-Chords-recognition/data/audio/augmented/g/g102.wav'"
      ]
     },
     "execution_count": 553,
     "metadata": {},
     "output_type": "execute_result"
    }
   ],
   "source": [
    "x = data_df_raw['file_path'].iloc[0]\n",
    "os.path.join(DATA_DIR_AUGMENTED, x)"
   ]
  },
  {
   "cell_type": "code",
   "execution_count": 554,
   "metadata": {},
   "outputs": [],
   "source": [
    "path_exists_mask =  data_df_augmented_raw['file_path'].map(lambda x: not os.path.exists(os.path.join(DATA_DIR_AUGMENTED, x)))"
   ]
  },
  {
   "cell_type": "code",
   "execution_count": 555,
   "metadata": {},
   "outputs": [
    {
     "data": {
      "text/plain": [
       "True     8000\n",
       "False    8000\n",
       "Name: file_path, dtype: int64"
      ]
     },
     "execution_count": 555,
     "metadata": {},
     "output_type": "execute_result"
    }
   ],
   "source": [
    "path_exists_mask.value_counts()"
   ]
  },
  {
   "cell_type": "code",
   "execution_count": 559,
   "metadata": {},
   "outputs": [
    {
     "data": {
      "text/html": [
       "<div>\n",
       "<style scoped>\n",
       "    .dataframe tbody tr th:only-of-type {\n",
       "        vertical-align: middle;\n",
       "    }\n",
       "\n",
       "    .dataframe tbody tr th {\n",
       "        vertical-align: top;\n",
       "    }\n",
       "\n",
       "    .dataframe thead th {\n",
       "        text-align: right;\n",
       "    }\n",
       "</style>\n",
       "<table border=\"1\" class=\"dataframe\">\n",
       "  <thead>\n",
       "    <tr style=\"text-align: right;\">\n",
       "      <th></th>\n",
       "      <th>file_path</th>\n",
       "      <th>file_name</th>\n",
       "      <th>class_name</th>\n",
       "      <th>class_ID</th>\n",
       "      <th>y</th>\n",
       "      <th>sr</th>\n",
       "      <th>spectrogram</th>\n",
       "      <th>augmentation</th>\n",
       "      <th>shape</th>\n",
       "    </tr>\n",
       "  </thead>\n",
       "  <tbody>\n",
       "    <tr>\n",
       "      <th>0</th>\n",
       "      <td>g/g102.wav</td>\n",
       "      <td>g102.wav</td>\n",
       "      <td>g</td>\n",
       "      <td>9</td>\n",
       "      <td>[-0.070366405, -0.10625491, -0.06439576, -0.08...</td>\n",
       "      <td>22050</td>\n",
       "      <td>[[0.009564147, 0.20960604, 1.369052, 0.6042535...</td>\n",
       "      <td>None</td>\n",
       "      <td>(128, 76)</td>\n",
       "    </tr>\n",
       "    <tr>\n",
       "      <th>1</th>\n",
       "      <td>g/g194.wav</td>\n",
       "      <td>g194.wav</td>\n",
       "      <td>g</td>\n",
       "      <td>9</td>\n",
       "      <td>[0.003939517, 0.0057145343, 0.0060949815, 0.00...</td>\n",
       "      <td>22050</td>\n",
       "      <td>[[0.009173464, 0.009723088, 0.0051691546, 0.00...</td>\n",
       "      <td>None</td>\n",
       "      <td>(128, 77)</td>\n",
       "    </tr>\n",
       "    <tr>\n",
       "      <th>2</th>\n",
       "      <td>g/g144.wav</td>\n",
       "      <td>g144.wav</td>\n",
       "      <td>g</td>\n",
       "      <td>9</td>\n",
       "      <td>[-0.00017985907, 0.0010203752, 0.0037393924, 0...</td>\n",
       "      <td>22050</td>\n",
       "      <td>[[0.023263648, 0.013200079, 0.005690117, 0.005...</td>\n",
       "      <td>None</td>\n",
       "      <td>(128, 87)</td>\n",
       "    </tr>\n",
       "    <tr>\n",
       "      <th>3</th>\n",
       "      <td>g/g160.wav</td>\n",
       "      <td>g160.wav</td>\n",
       "      <td>g</td>\n",
       "      <td>9</td>\n",
       "      <td>[-0.0008470263, -0.00043425435, -0.00062727876...</td>\n",
       "      <td>22050</td>\n",
       "      <td>[[0.0030921197, 0.008742289, 0.01737749, 0.010...</td>\n",
       "      <td>None</td>\n",
       "      <td>(128, 87)</td>\n",
       "    </tr>\n",
       "    <tr>\n",
       "      <th>4</th>\n",
       "      <td>g/g129.wav</td>\n",
       "      <td>g129.wav</td>\n",
       "      <td>g</td>\n",
       "      <td>9</td>\n",
       "      <td>[-0.006440137, -0.007372321, -0.0007374781, 0....</td>\n",
       "      <td>22050</td>\n",
       "      <td>[[0.011711276, 0.00850786, 0.006172516, 0.0059...</td>\n",
       "      <td>None</td>\n",
       "      <td>(128, 87)</td>\n",
       "    </tr>\n",
       "    <tr>\n",
       "      <th>...</th>\n",
       "      <td>...</td>\n",
       "      <td>...</td>\n",
       "      <td>...</td>\n",
       "      <td>...</td>\n",
       "      <td>...</td>\n",
       "      <td>...</td>\n",
       "      <td>...</td>\n",
       "      <td>...</td>\n",
       "      <td>...</td>\n",
       "    </tr>\n",
       "    <tr>\n",
       "      <th>1995</th>\n",
       "      <td>d/d166.wav</td>\n",
       "      <td>d166.wav</td>\n",
       "      <td>d</td>\n",
       "      <td>4</td>\n",
       "      <td>[0.058236524, 0.08123742, 0.056173798, 0.04294...</td>\n",
       "      <td>22050</td>\n",
       "      <td>[[0.1764211, 0.043822616, 0.0052566878, 0.0060...</td>\n",
       "      <td>None</td>\n",
       "      <td>(128, 87)</td>\n",
       "    </tr>\n",
       "    <tr>\n",
       "      <th>1996</th>\n",
       "      <td>d/d33.wav</td>\n",
       "      <td>d33.wav</td>\n",
       "      <td>d</td>\n",
       "      <td>4</td>\n",
       "      <td>[0.00023138247, 0.0002892468, 0.0002360416, 0....</td>\n",
       "      <td>22050</td>\n",
       "      <td>[[7.337144e-05, 0.00019333852, 9.7900054e-05, ...</td>\n",
       "      <td>None</td>\n",
       "      <td>(128, 87)</td>\n",
       "    </tr>\n",
       "    <tr>\n",
       "      <th>1997</th>\n",
       "      <td>d/d173.wav</td>\n",
       "      <td>d173.wav</td>\n",
       "      <td>d</td>\n",
       "      <td>4</td>\n",
       "      <td>[-0.037300956, -0.091728985, -0.06686829, -0.0...</td>\n",
       "      <td>22050</td>\n",
       "      <td>[[0.07238557, 0.019314304, 0.006020969, 0.0077...</td>\n",
       "      <td>None</td>\n",
       "      <td>(128, 87)</td>\n",
       "    </tr>\n",
       "    <tr>\n",
       "      <th>1998</th>\n",
       "      <td>d/d145.wav</td>\n",
       "      <td>d145.wav</td>\n",
       "      <td>d</td>\n",
       "      <td>4</td>\n",
       "      <td>[-0.04395816, -0.05974601, -0.05267904, -0.053...</td>\n",
       "      <td>22050</td>\n",
       "      <td>[[0.17131603, 0.052995317, 0.0073828846, 0.005...</td>\n",
       "      <td>None</td>\n",
       "      <td>(128, 78)</td>\n",
       "    </tr>\n",
       "    <tr>\n",
       "      <th>1999</th>\n",
       "      <td>d/d11.wav</td>\n",
       "      <td>d11.wav</td>\n",
       "      <td>d</td>\n",
       "      <td>4</td>\n",
       "      <td>[-0.00015268817, -0.00019713647, -0.0001865312...</td>\n",
       "      <td>22050</td>\n",
       "      <td>[[0.00054469577, 0.0005361312, 0.00066351425, ...</td>\n",
       "      <td>None</td>\n",
       "      <td>(128, 85)</td>\n",
       "    </tr>\n",
       "  </tbody>\n",
       "</table>\n",
       "<p>8000 rows × 9 columns</p>\n",
       "</div>"
      ],
      "text/plain": [
       "       file_path file_name class_name  class_ID  \\\n",
       "0     g/g102.wav  g102.wav          g         9   \n",
       "1     g/g194.wav  g194.wav          g         9   \n",
       "2     g/g144.wav  g144.wav          g         9   \n",
       "3     g/g160.wav  g160.wav          g         9   \n",
       "4     g/g129.wav  g129.wav          g         9   \n",
       "...          ...       ...        ...       ...   \n",
       "1995  d/d166.wav  d166.wav          d         4   \n",
       "1996   d/d33.wav   d33.wav          d         4   \n",
       "1997  d/d173.wav  d173.wav          d         4   \n",
       "1998  d/d145.wav  d145.wav          d         4   \n",
       "1999   d/d11.wav   d11.wav          d         4   \n",
       "\n",
       "                                                      y     sr  \\\n",
       "0     [-0.070366405, -0.10625491, -0.06439576, -0.08...  22050   \n",
       "1     [0.003939517, 0.0057145343, 0.0060949815, 0.00...  22050   \n",
       "2     [-0.00017985907, 0.0010203752, 0.0037393924, 0...  22050   \n",
       "3     [-0.0008470263, -0.00043425435, -0.00062727876...  22050   \n",
       "4     [-0.006440137, -0.007372321, -0.0007374781, 0....  22050   \n",
       "...                                                 ...    ...   \n",
       "1995  [0.058236524, 0.08123742, 0.056173798, 0.04294...  22050   \n",
       "1996  [0.00023138247, 0.0002892468, 0.0002360416, 0....  22050   \n",
       "1997  [-0.037300956, -0.091728985, -0.06686829, -0.0...  22050   \n",
       "1998  [-0.04395816, -0.05974601, -0.05267904, -0.053...  22050   \n",
       "1999  [-0.00015268817, -0.00019713647, -0.0001865312...  22050   \n",
       "\n",
       "                                            spectrogram augmentation  \\\n",
       "0     [[0.009564147, 0.20960604, 1.369052, 0.6042535...         None   \n",
       "1     [[0.009173464, 0.009723088, 0.0051691546, 0.00...         None   \n",
       "2     [[0.023263648, 0.013200079, 0.005690117, 0.005...         None   \n",
       "3     [[0.0030921197, 0.008742289, 0.01737749, 0.010...         None   \n",
       "4     [[0.011711276, 0.00850786, 0.006172516, 0.0059...         None   \n",
       "...                                                 ...          ...   \n",
       "1995  [[0.1764211, 0.043822616, 0.0052566878, 0.0060...         None   \n",
       "1996  [[7.337144e-05, 0.00019333852, 9.7900054e-05, ...         None   \n",
       "1997  [[0.07238557, 0.019314304, 0.006020969, 0.0077...         None   \n",
       "1998  [[0.17131603, 0.052995317, 0.0073828846, 0.005...         None   \n",
       "1999  [[0.00054469577, 0.0005361312, 0.00066351425, ...         None   \n",
       "\n",
       "          shape  \n",
       "0     (128, 76)  \n",
       "1     (128, 77)  \n",
       "2     (128, 87)  \n",
       "3     (128, 87)  \n",
       "4     (128, 87)  \n",
       "...         ...  \n",
       "1995  (128, 87)  \n",
       "1996  (128, 87)  \n",
       "1997  (128, 87)  \n",
       "1998  (128, 78)  \n",
       "1999  (128, 85)  \n",
       "\n",
       "[8000 rows x 9 columns]"
      ]
     },
     "execution_count": 559,
     "metadata": {},
     "output_type": "execute_result"
    }
   ],
   "source": [
    "data_df_augmented_raw[path_exists_mask]"
   ]
  },
  {
   "cell_type": "code",
   "execution_count": null,
   "metadata": {},
   "outputs": [],
   "source": []
  }
 ],
 "metadata": {
  "kernelspec": {
   "display_name": "Python 3",
   "language": "python",
   "name": "python3"
  },
  "language_info": {
   "codemirror_mode": {
    "name": "ipython",
    "version": 3
   },
   "file_extension": ".py",
   "mimetype": "text/x-python",
   "name": "python",
   "nbconvert_exporter": "python",
   "pygments_lexer": "ipython3",
   "version": "3.6.10"
  }
 },
 "nbformat": 4,
 "nbformat_minor": 2
}
